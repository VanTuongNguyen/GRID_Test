{
 "cells": [
  {
   "cell_type": "markdown",
   "metadata": {},
   "source": [
    "# Entrance Challenge: When Will the Sakura Bloom?"
   ]
  },
  {
   "cell_type": "markdown",
   "metadata": {},
   "source": [
    "***\n",
    "\n",
    "**Name： Tuong Nguyen Van**\n",
    "\n",
    "**Submission Date：**\n",
    "\n",
    "***"
   ]
  },
  {
   "cell_type": "markdown",
   "metadata": {
    "collapsed": true
   },
   "source": [
    "Python 3"
   ]
  },
  {
   "cell_type": "markdown",
   "metadata": {},
   "source": [
    "# 0. Basics of the Sakura Bloom-cycle (5pts total)"
   ]
  },
  {
   "cell_type": "markdown",
   "metadata": {},
   "source": [
    "In a year, sakura trees basically go through 4 phases: energy production, hibernation, growth, and of course flowering. These phases\n",
    "roughly follow the seasons, but not exactly. <br>\n",
    "\n",
    "   Production phase： Initial development of the buds（Summer-Fall） <br>\n",
    "   Hibernation phase： Bud growth stops while the tree goes into hibernation（Late Fall-Winter） <br>\n",
    "   Growth phase： Buds once again continue to grow when the tree comes out of its winter hibernation（Late Winter-Spring） <br>\n",
    "   Flowering phase： The buds finally bloom in spring (as climate conditions allow), once they have been able to fully develop.（Spring） <br>\n",
    "    \n",
    "Each year, near the end of winter but before the trees finally bloom, the hibernation period ends. The sakura that rested through the winter once gain become metabolically active, and the buds continue to grow (though we may not immediately notice when this happens.) However, the cycle is not simply clockwork- for example, in places where the temperature is above 20℃ year-round, the trees are unable to hibernate sufficiently, and thus cannot blossom.\n",
    "    \n",
    "In this challenge, we have outlined the basic mechanism by which the sakura reach their eventual bloom-date. We consider building a bloom-date prediction model for the case of sakura in Tokyo, with the data split as follows: <br>\n",
    "    \n",
    "Test years： 1966, 1971, 1985, 1994, and 2008 <br>\n",
    "Training years: 1961 to 2017 (Excluding the test years) <br>\n",
    "    \n",
    "You should fit the model to the data from the training years, then use the model to predict the bloom-date for each of the test years. The 3 models to be applied to the data are described below.\n",
    "    \n"
   ]
  },
  {
   "cell_type": "markdown",
   "metadata": {},
   "source": [
    "### Problem 0-1: (5pts)\n",
    "Acquire data of sakura blooming date (桜の開花日) for Tokyo from 1961 to 2017 using the Japanese Meteorological Agency website (気象庁)."
   ]
  },
  {
   "cell_type": "code",
   "execution_count": 90,
   "metadata": {},
   "outputs": [],
   "source": [
    "# import libraries\n",
    "\n",
    "import numpy as np\n",
    "import pandas as pd\n",
    "import matplotlib.pyplot as plt\n",
    "import datetime\n",
    "from functools import reduce"
   ]
  },
  {
   "cell_type": "code",
   "execution_count": 47,
   "metadata": {},
   "outputs": [
    {
     "data": {
      "text/html": [
       "<div>\n",
       "<style scoped>\n",
       "    .dataframe tbody tr th:only-of-type {\n",
       "        vertical-align: middle;\n",
       "    }\n",
       "\n",
       "    .dataframe tbody tr th {\n",
       "        vertical-align: top;\n",
       "    }\n",
       "\n",
       "    .dataframe thead th {\n",
       "        text-align: right;\n",
       "    }\n",
       "</style>\n",
       "<table border=\"1\" class=\"dataframe\">\n",
       "  <thead>\n",
       "    <tr style=\"text-align: right;\">\n",
       "      <th></th>\n",
       "      <th>year</th>\n",
       "      <th>month</th>\n",
       "      <th>day</th>\n",
       "    </tr>\n",
       "  </thead>\n",
       "  <tbody>\n",
       "    <tr>\n",
       "      <th>5</th>\n",
       "      <td>1966</td>\n",
       "      <td>3</td>\n",
       "      <td>20</td>\n",
       "    </tr>\n",
       "    <tr>\n",
       "      <th>10</th>\n",
       "      <td>1971</td>\n",
       "      <td>3</td>\n",
       "      <td>30</td>\n",
       "    </tr>\n",
       "    <tr>\n",
       "      <th>24</th>\n",
       "      <td>1985</td>\n",
       "      <td>4</td>\n",
       "      <td>3</td>\n",
       "    </tr>\n",
       "    <tr>\n",
       "      <th>33</th>\n",
       "      <td>1994</td>\n",
       "      <td>3</td>\n",
       "      <td>31</td>\n",
       "    </tr>\n",
       "    <tr>\n",
       "      <th>47</th>\n",
       "      <td>2008</td>\n",
       "      <td>3</td>\n",
       "      <td>22</td>\n",
       "    </tr>\n",
       "  </tbody>\n",
       "</table>\n",
       "</div>"
      ],
      "text/plain": [
       "    year  month  day\n",
       "5   1966      3   20\n",
       "10  1971      3   30\n",
       "24  1985      4    3\n",
       "33  1994      3   31\n",
       "47  2008      3   22"
      ]
     },
     "execution_count": 47,
     "metadata": {},
     "output_type": "execute_result"
    }
   ],
   "source": [
    "\n",
    "# Say something. https://www.data.jma.go.jp/sakura/data/sakura003_01.html\n",
    "\n",
    "df_web = pd.read_csv('webData.csv')\n",
    "\n",
    "train_years = [1966 , 1971 , 1985 , 1994 ,2008]\n",
    "\n",
    "df_web_train = df_web[df_web['year'].isin(train_years)]\n",
    "df_web_test = df_web[~df_web['year'].isin(train_years)]\n",
    "df_web_train"
   ]
  },
  {
   "cell_type": "markdown",
   "metadata": {},
   "source": [
    "***\n",
    "## 1. Prediction using the \"600 Degree Rule\" (15pts total)"
   ]
  },
  {
   "cell_type": "markdown",
   "metadata": {},
   "source": [
    "For a rough approximaton of the bloom-date, we start with a simple \"rule-based\" prediction model, called the \"600 Degree Rule\". The rule consists of logging the maximum temperature of each day, starting  on February 1st, and sum these temperatures until the sum surpasses 600$^\\circ$C. The day that this happens is the predicted bloom-date. This 600$^\\circ$C threshold is used to easily predict bloom-date in various locations varies by location. However, for more precise predictions, it should be set differently for every location. In this challenge, we verify the accuracy of the \"600 Degree Rule\" in the case of Tokyo."
   ]
  },
  {
   "cell_type": "markdown",
   "metadata": {},
   "source": [
    "### Problem 1-1: (5pts)\n",
    "From here-on, we refer to the bloom-date in a given year $j$ as $BD_{j}$. For each year in the training data, calculate the accumulated daily maximum temperature from February 1st to the actual bloom-date $BD_{j}$, and plot this accumulated value over the training period. Then, average this accumulated value as $T_{mean}$, and verify whether we should use 600$^\\circ$C as a rule for Tokyo."
   ]
  },
  {
   "cell_type": "code",
   "execution_count": 48,
   "metadata": {
    "scrolled": false
   },
   "outputs": [
    {
     "data": {
      "text/html": [
       "<div>\n",
       "<style scoped>\n",
       "    .dataframe tbody tr th:only-of-type {\n",
       "        vertical-align: middle;\n",
       "    }\n",
       "\n",
       "    .dataframe tbody tr th {\n",
       "        vertical-align: top;\n",
       "    }\n",
       "\n",
       "    .dataframe thead th {\n",
       "        text-align: right;\n",
       "    }\n",
       "</style>\n",
       "<table border=\"1\" class=\"dataframe\">\n",
       "  <thead>\n",
       "    <tr style=\"text-align: right;\">\n",
       "      <th></th>\n",
       "      <th>Unnamed: 0</th>\n",
       "      <th>year</th>\n",
       "      <th>month</th>\n",
       "      <th>day</th>\n",
       "      <th>現地平均気圧</th>\n",
       "      <th>海面平均気圧</th>\n",
       "      <th>合計降水量</th>\n",
       "      <th>1時間最大降水量</th>\n",
       "      <th>10分間最大降水量</th>\n",
       "      <th>平均気温</th>\n",
       "      <th>最高気温</th>\n",
       "      <th>最低気温</th>\n",
       "      <th>平均湿度</th>\n",
       "      <th>最低湿度</th>\n",
       "      <th>日照時間</th>\n",
       "      <th>datetime</th>\n",
       "    </tr>\n",
       "  </thead>\n",
       "  <tbody>\n",
       "    <tr>\n",
       "      <th>1826</th>\n",
       "      <td>1826</td>\n",
       "      <td>1966</td>\n",
       "      <td>1</td>\n",
       "      <td>1</td>\n",
       "      <td>1009.4</td>\n",
       "      <td>1013.9</td>\n",
       "      <td>0.0</td>\n",
       "      <td>0.0</td>\n",
       "      <td>0.0</td>\n",
       "      <td>3.3</td>\n",
       "      <td>7.9</td>\n",
       "      <td>-1.2</td>\n",
       "      <td>39</td>\n",
       "      <td>20</td>\n",
       "      <td>9.0</td>\n",
       "      <td>1966-01-01</td>\n",
       "    </tr>\n",
       "    <tr>\n",
       "      <th>1827</th>\n",
       "      <td>1827</td>\n",
       "      <td>1966</td>\n",
       "      <td>1</td>\n",
       "      <td>2</td>\n",
       "      <td>1013.8</td>\n",
       "      <td>1018.3</td>\n",
       "      <td>0.0</td>\n",
       "      <td>0.0</td>\n",
       "      <td>0.0</td>\n",
       "      <td>4.2</td>\n",
       "      <td>9.4</td>\n",
       "      <td>-0.1</td>\n",
       "      <td>37</td>\n",
       "      <td>20</td>\n",
       "      <td>9.0</td>\n",
       "      <td>1966-01-02</td>\n",
       "    </tr>\n",
       "    <tr>\n",
       "      <th>1828</th>\n",
       "      <td>1828</td>\n",
       "      <td>1966</td>\n",
       "      <td>1</td>\n",
       "      <td>3</td>\n",
       "      <td>1017.6</td>\n",
       "      <td>1022.1</td>\n",
       "      <td>0.0</td>\n",
       "      <td>0.0</td>\n",
       "      <td>0.0</td>\n",
       "      <td>5.5</td>\n",
       "      <td>10.7</td>\n",
       "      <td>-0.4</td>\n",
       "      <td>42</td>\n",
       "      <td>24</td>\n",
       "      <td>8.3</td>\n",
       "      <td>1966-01-03</td>\n",
       "    </tr>\n",
       "    <tr>\n",
       "      <th>1829</th>\n",
       "      <td>1829</td>\n",
       "      <td>1966</td>\n",
       "      <td>1</td>\n",
       "      <td>4</td>\n",
       "      <td>998.4</td>\n",
       "      <td>1002.7</td>\n",
       "      <td>22.5</td>\n",
       "      <td>9.5</td>\n",
       "      <td>2.0</td>\n",
       "      <td>3.9</td>\n",
       "      <td>7.0</td>\n",
       "      <td>2.3</td>\n",
       "      <td>74</td>\n",
       "      <td>52</td>\n",
       "      <td>0.0</td>\n",
       "      <td>1966-01-04</td>\n",
       "    </tr>\n",
       "    <tr>\n",
       "      <th>1830</th>\n",
       "      <td>1830</td>\n",
       "      <td>1966</td>\n",
       "      <td>1</td>\n",
       "      <td>5</td>\n",
       "      <td>995.9</td>\n",
       "      <td>1000.2</td>\n",
       "      <td>0.0</td>\n",
       "      <td>0.0</td>\n",
       "      <td>0.0</td>\n",
       "      <td>7.3</td>\n",
       "      <td>12.4</td>\n",
       "      <td>1.9</td>\n",
       "      <td>45</td>\n",
       "      <td>26</td>\n",
       "      <td>9.0</td>\n",
       "      <td>1966-01-05</td>\n",
       "    </tr>\n",
       "  </tbody>\n",
       "</table>\n",
       "</div>"
      ],
      "text/plain": [
       "      Unnamed: 0  year  month  day  現地平均気圧  海面平均気圧  合計降水量  1時間最大降水量  \\\n",
       "1826        1826  1966      1    1  1009.4  1013.9    0.0       0.0   \n",
       "1827        1827  1966      1    2  1013.8  1018.3    0.0       0.0   \n",
       "1828        1828  1966      1    3  1017.6  1022.1    0.0       0.0   \n",
       "1829        1829  1966      1    4   998.4  1002.7   22.5       9.5   \n",
       "1830        1830  1966      1    5   995.9  1000.2    0.0       0.0   \n",
       "\n",
       "      10分間最大降水量  平均気温  最高気温  最低気温  平均湿度  最低湿度  日照時間    datetime  \n",
       "1826        0.0   3.3   7.9  -1.2    39    20   9.0  1966-01-01  \n",
       "1827        0.0   4.2   9.4  -0.1    37    20   9.0  1966-01-02  \n",
       "1828        0.0   5.5  10.7  -0.4    42    24   8.3  1966-01-03  \n",
       "1829        2.0   3.9   7.0   2.3    74    52   0.0  1966-01-04  \n",
       "1830        0.0   7.3  12.4   1.9    45    26   9.0  1966-01-05  "
      ]
     },
     "execution_count": 48,
     "metadata": {},
     "output_type": "execute_result"
    }
   ],
   "source": [
    "# Get data from tokyo.csv\n",
    "\n",
    "df_weather = pd.read_csv(\"tokyo.csv\")\n",
    "\n",
    "# Add column 'datetime'\n",
    "df_weather['datetime'] = list(map(lambda x,y,z: datetime.date(x,y,z), df_weather['year'].values, df_weather['month'].values,\n",
    "                                df_weather['day'].values))\n",
    "\n",
    "# Split dataset to train and test set\n",
    "df_train = df_weather[df_weather['year'].isin(train_years)]\n",
    "df_test = df_weather[~df_weather['year'].isin(train_years)]\n",
    "\n",
    "df_train.head(5)"
   ]
  },
  {
   "cell_type": "code",
   "execution_count": 49,
   "metadata": {},
   "outputs": [],
   "source": [
    "#define plot function\n",
    "\n",
    "def plotCumulation(array,year,ax):\n",
    "    \n",
    "    n_bins = 40\n",
    "    \n",
    "    # plot the cumulative histogram\n",
    "    n, bins, patches = ax.hist(array, n_bins, density=True, histtype='step', cumulative=True, label=str(year))\n",
    "\n",
    "    # tidy up the figure\n",
    "    ax.grid(True)\n",
    "    ax.legend(loc='right')\n",
    "    ax.set_title('Cumulation of highest temperature ')\n",
    "    ax.set_xlabel('Highest temperature (celsius degree)')\n",
    "    ax.set_ylabel('Percent')\n",
    "\n",
    "    "
   ]
  },
  {
   "cell_type": "code",
   "execution_count": 50,
   "metadata": {},
   "outputs": [
    {
     "name": "stdout",
     "output_type": "stream",
     "text": [
      "[607.6 663.4 677.8 656.6 596.7]\n",
      "T_mean:640.4200000000001\n"
     ]
    },
    {
     "data": {
      "image/png": "[encoded data removed]",
      "text/plain": [
       "<Figure size 576x288 with 1 Axes>"
      ]
     },
     "metadata": {
      "needs_background": "light"
     },
     "output_type": "display_data"
    }
   ],
   "source": [
    "# Filter train set\n",
    "train_600 = df_train[['year','month','day','最高気温','datetime']]\n",
    "fig, ax = plt.subplots(figsize=(8, 4))\n",
    "sum_arr = []\n",
    "for i in train_years:\n",
    "    data = train_600[train_600['year'] == i]\n",
    "    \n",
    "    actual_day = df_web_train[df_web_train['year'] == i]\n",
    "    \n",
    "    x = datetime.date(i, 2, 1)\n",
    "    y = datetime.date(i, actual_day['month'].values[0], actual_day['day'].values[0])\n",
    "\n",
    "    array = data[ (data['datetime'] >= x) & (data['datetime'] <= y) ]\n",
    "    sum_arr.append(array['最高気温'].sum())\n",
    "#     print(array)\n",
    "#     print(array['最高気温'])\n",
    "    plotCumulation(array['最高気温'].values, i, ax)\n",
    "plt.show\n",
    "np_sum_arr = np.array(sum_arr)\n",
    "t_mean = np.average(np_sum_arr)\n",
    "print(np_sum_arr)\n",
    "print (\"T_mean:\" + str(t_mean))\n"
   ]
  },
  {
   "cell_type": "markdown",
   "metadata": {},
   "source": [
    "##### $T_{mean}$ = 640.42 \n",
    "##### We should't use 600$^\\circ$C as a rule for Tokyo."
   ]
  },
  {
   "cell_type": "markdown",
   "metadata": {},
   "source": [
    "### Problem 1-2: (10pts)\n",
    "\n",
    "Use the average accumulated value $T_{mean}$ calculated in 1-1 to predict $BD_{j}$ for each test year, and show the error from the actual $BD_{j}$. Compare to the prediction results when 600$^\\circ$C is used a threshold value, and evaluate both models using the coefficient of determination ($R^2$ score)."
   ]
  },
  {
   "cell_type": "code",
   "execution_count": 148,
   "metadata": {},
   "outputs": [
    {
     "data": {
      "text/plain": [
       "{1961: [645.9, datetime.date(1961, 3, 28)],\n",
       " 1962: [641.7000000000002, datetime.date(1962, 3, 22)],\n",
       " 1963: [646.3, datetime.date(1963, 3, 29)],\n",
       " 1964: [656.5000000000001, datetime.date(1964, 4, 1)],\n",
       " 1965: [642.1999999999997, datetime.date(1965, 4, 2)],\n",
       " 1967: [647.0000000000001, datetime.date(1967, 3, 29)],\n",
       " 1968: [654.5999999999999, datetime.date(1968, 3, 29)],\n",
       " 1969: [644.4, datetime.date(1969, 4, 1)],\n",
       " 1970: [649.7, datetime.date(1970, 4, 4)],\n",
       " 1972: [646.5, datetime.date(1972, 3, 30)],\n",
       " 1973: [656.4, datetime.date(1973, 3, 28)],\n",
       " 1974: [644.5000000000001, datetime.date(1974, 4, 1)],\n",
       " 1975: [642.5000000000001, datetime.date(1975, 3, 31)],\n",
       " 1976: [645.3999999999999, datetime.date(1976, 3, 26)],\n",
       " 1977: [642.7000000000002, datetime.date(1977, 3, 28)],\n",
       " 1978: [652.9999999999998, datetime.date(1978, 4, 1)],\n",
       " 1979: [648.0999999999998, datetime.date(1979, 3, 24)],\n",
       " 1980: [640.6000000000001, datetime.date(1980, 3, 31)],\n",
       " 1981: [641.0999999999999, datetime.date(1981, 3, 29)],\n",
       " 1982: [646.6999999999999, datetime.date(1982, 3, 28)],\n",
       " 1983: [647.5999999999999, datetime.date(1983, 3, 30)],\n",
       " 1984: [643.7000000000002, datetime.date(1984, 4, 11)],\n",
       " 1986: [643.5999999999999, datetime.date(1986, 4, 4)],\n",
       " 1987: [652.2, datetime.date(1987, 3, 27)],\n",
       " 1988: [649.6999999999999, datetime.date(1988, 4, 2)],\n",
       " 1989: [648.9999999999999, datetime.date(1989, 3, 25)],\n",
       " 1990: [645.3999999999997, datetime.date(1990, 3, 24)],\n",
       " 1991: [649.7, datetime.date(1991, 3, 27)],\n",
       " 1992: [641.7, datetime.date(1992, 3, 26)],\n",
       " 1993: [646.6999999999999, datetime.date(1993, 3, 26)],\n",
       " 1995: [640.7, datetime.date(1995, 3, 28)],\n",
       " 1996: [656.9999999999999, datetime.date(1996, 3, 30)],\n",
       " 1997: [647.4, datetime.date(1997, 3, 24)],\n",
       " 1998: [645.5000000000001, datetime.date(1998, 3, 25)],\n",
       " 1999: [642.6999999999999, datetime.date(1999, 3, 24)],\n",
       " 2000: [651.1999999999998, datetime.date(2000, 3, 28)],\n",
       " 2001: [646.5999999999999, datetime.date(2001, 3, 24)],\n",
       " 2002: [649.0000000000001, datetime.date(2002, 3, 19)],\n",
       " 2003: [649.4000000000001, datetime.date(2003, 3, 30)],\n",
       " 2004: [646.1999999999999, datetime.date(2004, 3, 20)],\n",
       " 2005: [653.7000000000002, datetime.date(2005, 3, 29)],\n",
       " 2006: [651.8000000000002, datetime.date(2006, 3, 26)],\n",
       " 2007: [651.1, datetime.date(2007, 3, 22)],\n",
       " 2009: [650.1000000000003, datetime.date(2009, 3, 23)],\n",
       " 2010: [643.6000000000001, datetime.date(2010, 3, 27)],\n",
       " 2011: [646.1, datetime.date(2011, 3, 28)],\n",
       " 2012: [652.6000000000001, datetime.date(2012, 3, 31)],\n",
       " 2013: [649.8, datetime.date(2013, 3, 21)],\n",
       " 2014: [642.3999999999999, datetime.date(2014, 3, 27)],\n",
       " 2015: [647.3, datetime.date(2015, 3, 25)],\n",
       " 2016: [652.4999999999999, datetime.date(2016, 3, 21)],\n",
       " 2017: [650.2000000000003, datetime.date(2017, 3, 23)]}"
      ]
     },
     "execution_count": 148,
     "metadata": {},
     "output_type": "execute_result"
    }
   ],
   "source": [
    "test_1_2 = df_test[['year','month','day','最高気温','datetime']]\n",
    "test_years = set(test_600['year'].values)\n",
    "\n",
    "# define the function that predicting BD\n",
    "def problem1_2_a(threshold):\n",
    "    pred_data = {}\n",
    "    for i in test_years:\n",
    "        x = datetime.date(i, 2, 1)\n",
    "        data = test_600[(test_1_2['year'] == i) & (test_1_2['datetime'] >= x)]\n",
    "        sum = 0\n",
    "        for index, row in data.iterrows():\n",
    "            sum += row['最高気温']\n",
    "            if sum > threshold:\n",
    "                #return dict[[year, sum-of-temp, BD]]\n",
    "                pred_data.update({i:[sum, row['datetime']]})\n",
    "                break\n",
    "    return pred_data\n",
    "problem1_2_a(t_mean)"
   ]
  },
  {
   "cell_type": "code",
   "execution_count": 149,
   "metadata": {},
   "outputs": [],
   "source": [
    "# calculate mean of BD\n",
    "#################################\n",
    "def avg_datetime(array):\n",
    "    min = np.min(array)\n",
    "    deltas = [x - min for x in array]\n",
    "    return min + reduce((lambda x,y: x+y), deltas) / len(deltas)\n",
    "##################################\n",
    "\n",
    "def problem1_2_b(pred_day):\n",
    "    pred_x = []\n",
    "    pred_y = []\n",
    "    \n",
    "    fix_pred_day = {}\n",
    "    for x in pred_day.items():\n",
    "        fix_pred_day.update({x[0]:datetime.date(2019,x[1][1].month,x[1][1].day)})\n",
    "\n",
    "    y_mean = avg_datetime([x[1] for x in fix_pred_day.items()])\n",
    "\n",
    "    for i in test_years:\n",
    "        actual_day = df_web_test[df_web_test['year'] == i]\n",
    "        y = datetime.date(i, actual_day['month'].values[0], actual_day['day'].values[0])\n",
    "        pred_x.append((y - pred_day[i][1]).days)\n",
    "\n",
    "    for i in test_years:\n",
    "        pred_y.append((y_mean - fix_pred_day[i]).days)\n",
    "    #######################################\n",
    "    pred_x = np.array(pred_x)\n",
    "    pred_y = np.array(pred_y)\n",
    "\n",
    "    r_square = 1 - (np.sum(pred_x**2))/(np.sum(pred_y**2))\n",
    "    print(r_square)"
   ]
  },
  {
   "cell_type": "code",
   "execution_count": 150,
   "metadata": {},
   "outputs": [
    {
     "name": "stdout",
     "output_type": "stream",
     "text": [
      "0.2230290456431535\n",
      "0.03033268101761255\n"
     ]
    }
   ],
   "source": [
    "# R square value of the prediction that using t_mean or 600 degrees as threshold\n",
    "problem1_2_b(problem1_2_a(t_mean))\n",
    "problem1_2_b(problem1_2_a(600))"
   ]
  },
  {
   "cell_type": "markdown",
   "metadata": {},
   "source": [
    "##### $R^2$ with $T_{mean}$ = 22.3% < 50%\n",
    "##### $R^2$ with $600^\\circ C$ = 3.03% < 50%"
   ]
  },
  {
   "cell_type": "markdown",
   "metadata": {},
   "source": [
    "***\n",
    "## 2. Linear Regression Model: Transform to Standard Temperature (30pts total)"
   ]
  },
  {
   "cell_type": "markdown",
   "metadata": {},
   "source": [
    "The year to year fluctuation of the bloom-date depends heavily upon the actual temperature fluctuation (not just the accumulated maximum). In order to get to a more physiologically realistic metric,  Sugihara et al. (1986) considered the actual effect of temperature on biochemical activity. They introduced a method of \"standardizing\" the temperatures measured, according to the fluctuation relative to a standard temperature.\n",
    "\n",
    "In order to make such a standardization, we apply two major assumptions, outlined below.\n",
    "\n",
    "#### 1) The Arrhenius equation: <br>\n",
    "\n",
    "The first assumption, also known in thermodynamics as the \"Arrhenius equation\", deals with chemical reaction rates and can be written as follows:\n",
    "\n",
    "$$\n",
    "k = A \\exp{ \\Bigl(- \\frac{E_{a}}{RT}} \\Bigr)\n",
    "$$ <br>\n",
    "\n",
    "Basically, it says that each reaction has an activation energy, $E_{a}$ and a pre-exponential factor $A$. Knowing these values for the particular equation, we can find the rate constant $k$ if we know the temperature, $T$, and applying the universal gas constant, $R = 8.314 \\rm [J/K・mol]$.\n",
    "\n",
    "#### 2) Constant output at constant temperature: <br>\n",
    "\n",
    "The second assumption, is simply that the output of a reaction is a simple product of the duration and the rate constant $k$, and that product is constant even at different temperatures.\n",
    "    \n",
    "$$\n",
    "tk = t'k' = t''k'' = \\cdots = \\rm{const}\n",
    "$$ <br>\n",
    "\n",
    "\n",
    "Making the assumptions above, we can determine a \"standard reaction time\", $t_{s}$ required for the bloom-date to occur. We can do so in the following way:\n",
    "\n",
    "<br>\n",
    "$$\n",
    "t_{s} = \\exp \\Bigl( \\frac{E_{a}(T_{i, j} - T_{s})}{RT_{i, j}T_{s}}\\Bigr)\n",
    "$$ <br>\n",
    "\n",
    "We define $T_{i, j}$ as the daily average temperature, and use a standard temperature of $T_{s} = 17^\\circ\\rm{C}$. For a given year $j$, with the last day of the hibernation phase set as $D_ {j}$, we define the number of \"transformed temperature days\",  $DTS_{ J}$,  needed to reach from $D_ {j}$ to the bloom-date $BD_{j}$ with the following equation:\n",
    "\n",
    "\n",
    "<br>\n",
    "$$\n",
    "DTS_{j} = \\sum_{i=D_{j}}^{BD_{j}} t_{s} = \\sum_{i=D_{j}}^{BD_{j}} \\exp \\Bigl( \\frac{E_{a}(T_{i, j} - T_{s})}{RT_{i, j}T_{s}}\\Bigr)\n",
    "$$ <br>\n",
    "\n",
    "\n",
    "\n",
    "From that equation, we can find the average $DTS$ for $x$ number of years ($DTS_{ mean}$) as follows: \n",
    "\n",
    "<br>\n",
    "$$\n",
    "\\begin{align}\n",
    "DTS_{\\rm{mean}} &= \\frac{1}{x} \\sum_{j}^{x} DTS_{j} \\\\\n",
    "&= \\frac{1}{x} \\sum_{j}^{x} \\sum_{i=D_{j}}^{BD_{j}} \\exp \\Bigl( \\frac{E_{a}(T_{i, j} - T_{s})}{RT_{i, j}T_{s}}\\Bigr)\n",
    "\\end{align}\n",
    "$$ <br> <br>\n",
    "\n",
    "In this exercise, we assume that $DTS_{ mean}$ and $E_{ a}$ are constant values, and we use the data from the training years to fit these 2 constants. The exercise consists of 4 steps:\n",
    "1. Calculate the last day of the hibernation phase $D_ {j}$ for every year $j$.\n",
    "2. For every year $j$, calculate $DTS_{ j}$ as a function of $E_{ a}$, then calculate the average (over training years) $DTS_{ mean}$ also as a function of $E_{ a}$.\n",
    "3. For every year $j$, and for every value of $E_{ a}$, accumulate $t_{s}$ from $D_ {j}$ and predict the bloom date $BD_{j}^{\\rm{pred}}$ as the day the accumulated value surpasses $DTS_{ mean}$. Calculate the bloom date prediction error as a function of $E_{ a}$, and find the optimal $E_{ a}$ value that minimizes that error.\n",
    "4. Use the previously calculated values of $D_ {j}$, $DTS_{ mean}$, and $E_{ a}$ to predict bloom-day on years from the test set.\n"
   ]
  },
  {
   "cell_type": "markdown",
   "metadata": {},
   "source": [
    "### Problem 2-1: (5pts)\n",
    "According to Hayashi et al. (2012), the day on which the sakura will awaken from their hibernation phase, $D_{j}$, for a given location, can be approximated by the following equation:\n",
    "<br> <br>\n",
    "$$\n",
    "D_{j} = 136.75 - 7.689 \\phi + 0.133 \\phi^{2} -1.307\\ln L + 0.144T_{F} + 0.285T_{F}^2\n",
    "$$ <br>\n",
    "\n",
    "where $\\phi$ is the latitude [°N], $L$ is the distance from the nearest coastline [km], and $T_{F}$ is that location's average temperature [°C] over the first 3 months of a given year. In the case of Tokyo, $\\phi = 35°40'$ and $L=4\\rm{km}$.\n",
    "\n",
    "Find the $D_{j}$ value for every year $j$ from 1961 to 2017 (including the test years), and plot this value on a graph. \n",
    "\n",
    "(In Problem 1, we had assumed a $D_j$ of February 1st.)"
   ]
  },
  {
   "cell_type": "code",
   "execution_count": 1,
   "metadata": {
    "collapsed": true
   },
   "outputs": [],
   "source": []
  },
  {
   "cell_type": "markdown",
   "metadata": {},
   "source": [
    "### Problem 2-2: (10pts)\n",
    "Calcluate $DTS_j$ for each year $j$ in the training set for discrete values of $E_{a}$, varying from 5 to 40kcal ($E_{a} = 5, 6, 7, \\cdots, 40 \\,\\rm{kcal}$), and plot this $DTS_j$ against $E_{a}$. Also calculate the average of $DTS_{j}$ over the training period, and indicate it on the plot as $DTS_{mean}$. Pay attention to the units of **every parameter** ($T_{i,j}$, $E_{a}$, ...) in the equation for $t_{s}$. \n"
   ]
  },
  {
   "cell_type": "code",
   "execution_count": null,
   "metadata": {
    "collapsed": true
   },
   "outputs": [],
   "source": []
  },
  {
   "cell_type": "markdown",
   "metadata": {},
   "source": [
    "### Problem 2-3: (11pts)\n",
    "Using the same $E_{a}$ values and calculated $DTS_{mean}$ from 2-2, predict the bloom date $BD_{j}$ for each of the training years. Find the mean squared error relative to the actual $BD$ and plot it against $E_{a}$. Find the optimal $E_{a}^{*}$ that minimizes that error on the training data."
   ]
  },
  {
   "cell_type": "code",
   "execution_count": null,
   "metadata": {
    "collapsed": true
   },
   "outputs": [],
   "source": []
  },
  {
   "cell_type": "markdown",
   "metadata": {},
   "source": [
    "### Problem 2-4: (4pts)\n",
    "\n",
    "Using the $D_j$ dates from problem 2-1, the average $DTS_{mean}$ from 2-2, and the best-fit $E_{a}^{*}$ from 2-3, predict the bloom-dates $BD_j$ for the years in the test set. Determine the error between your predicted $BD_j$ values and the actual values, and evaluate this model using the coefficient of determination ($R^2$ score)."
   ]
  },
  {
   "cell_type": "code",
   "execution_count": null,
   "metadata": {
    "collapsed": true
   },
   "outputs": [],
   "source": []
  },
  {
   "cell_type": "markdown",
   "metadata": {},
   "source": [
    "### Problem 2-5: (extra 10pts)\n",
    "Discuss any improvements you could make to the model outlined above. If you have a suggestion in particular, describe it. How much do you think the accuracy would be improved?"
   ]
  },
  {
   "cell_type": "code",
   "execution_count": null,
   "metadata": {
    "collapsed": true
   },
   "outputs": [],
   "source": []
  },
  {
   "cell_type": "markdown",
   "metadata": {},
   "source": [
    "***\n",
    "## 3. Predicting Bloom-date via Neural Network (30pts total)"
   ]
  },
  {
   "cell_type": "markdown",
   "metadata": {},
   "source": [
    "### Problem 3-1: (20pts)\n",
    "\n",
    "Build a neural network and train it on the data from the training years. Use this model to predict the bloom-dates for each year in the test set. Evaluate the error between predicted dates and actual dates using the coefficient of determination (R2 score). Only use the weather data given in `tokyo.csv` and the sakura data acquired in problem 0-1.</br>\n",
    "You may use whichever framework or strategy that you like to construct the network. "
   ]
  },
  {
   "cell_type": "code",
   "execution_count": null,
   "metadata": {
    "collapsed": true
   },
   "outputs": [],
   "source": []
  },
  {
   "cell_type": "markdown",
   "metadata": {},
   "source": [
    "### Problem 3-2: (10pts)\n",
    "Compare the performance (via $R^2$ score) of the 3 implementations above: the 600 Degree Rule, the DTS method, and the neural network approach. For all methods, and each test year, plot the predicted date vs. the actual date. Discuss the accuracy and differences of these 3 models."
   ]
  },
  {
   "cell_type": "code",
   "execution_count": null,
   "metadata": {
    "collapsed": true
   },
   "outputs": [],
   "source": []
  },
  {
   "cell_type": "markdown",
   "metadata": {},
   "source": [
    "***\n",
    "## 4. Trends of the Sakura blooming phenomenon (20pts total)"
   ]
  },
  {
   "cell_type": "markdown",
   "metadata": {},
   "source": [
    "### Problem 4-1: (20pts)\n",
    "Based on the data from the past 60 years, investigate and discuss trends in the sakura hibernation ($D_{j}$) and blooming ($BD_{j}$) phenomena in Tokyo."
   ]
  },
  {
   "cell_type": "code",
   "execution_count": null,
   "metadata": {
    "collapsed": true
   },
   "outputs": [],
   "source": []
  }
 ],
 "metadata": {
  "kernel_info": {
   "name": "python2"
  },
  "kernelspec": {
   "display_name": "Python 3",
   "language": "python",
   "name": "python3"
  },
  "language_info": {
   "codemirror_mode": {
    "name": "ipython",
    "version": 3
   },
   "file_extension": ".py",
   "mimetype": "text/x-python",
   "name": "python",
   "nbconvert_exporter": "python",
   "pygments_lexer": "ipython3",
   "version": "3.7.2"
  }
 },
 "nbformat": 4,
 "nbformat_minor": 2
}
