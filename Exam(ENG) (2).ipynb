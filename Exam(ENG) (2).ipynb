{
 "cells": [
  {
   "cell_type": "markdown",
   "metadata": {},
   "source": [
    "# Entrance Challenge: When Will the Sakura Bloom?"
   ]
  },
  {
   "cell_type": "markdown",
   "metadata": {},
   "source": [
    "***\n",
    "\n",
    "**Name： Tuong Nguyen Van**\n",
    "\n",
    "**Submission Date：**\n",
    "\n",
    "***"
   ]
  },
  {
   "cell_type": "markdown",
   "metadata": {
    "collapsed": true
   },
   "source": [
    "Python 3"
   ]
  },
  {
   "cell_type": "markdown",
   "metadata": {},
   "source": [
    "# 0. Basics of the Sakura Bloom-cycle (5pts total)"
   ]
  },
  {
   "cell_type": "markdown",
   "metadata": {},
   "source": [
    "In a year, sakura trees basically go through 4 phases: energy production, hibernation, growth, and of course flowering. These phases\n",
    "roughly follow the seasons, but not exactly. <br>\n",
    "\n",
    "   Production phase： Initial development of the buds（Summer-Fall） <br>\n",
    "   Hibernation phase： Bud growth stops while the tree goes into hibernation（Late Fall-Winter） <br>\n",
    "   Growth phase： Buds once again continue to grow when the tree comes out of its winter hibernation（Late Winter-Spring） <br>\n",
    "   Flowering phase： The buds finally bloom in spring (as climate conditions allow), once they have been able to fully develop.（Spring） <br>\n",
    "    \n",
    "Each year, near the end of winter but before the trees finally bloom, the hibernation period ends. The sakura that rested through the winter once gain become metabolically active, and the buds continue to grow (though we may not immediately notice when this happens.) However, the cycle is not simply clockwork- for example, in places where the temperature is above 20℃ year-round, the trees are unable to hibernate sufficiently, and thus cannot blossom.\n",
    "    \n",
    "In this challenge, we have outlined the basic mechanism by which the sakura reach their eventual bloom-date. We consider building a bloom-date prediction model for the case of sakura in Tokyo, with the data split as follows: <br>\n",
    "    \n",
    "Test years： 1966, 1971, 1985, 1994, and 2008 <br>\n",
    "Training years: 1961 to 2017 (Excluding the test years) <br>\n",
    "    \n",
    "You should fit the model to the data from the training years, then use the model to predict the bloom-date for each of the test years. The 3 models to be applied to the data are described below.\n",
    "    \n"
   ]
  },
  {
   "cell_type": "markdown",
   "metadata": {},
   "source": [
    "### Problem 0-1: (5pts)\n",
    "Acquire data of sakura blooming date (桜の開花日) for Tokyo from 1961 to 2017 using the Japanese Meteorological Agency website (気象庁)."
   ]
  },
  {
   "cell_type": "code",
   "execution_count": 2,
   "metadata": {},
   "outputs": [],
   "source": [
    "# import libraries\n",
    "\n",
    "import numpy as np\n",
    "import pandas as pd\n",
    "import matplotlib.pyplot as plt\n",
    "import datetime\n",
    "from datetime import timedelta \n",
    "from functools import reduce\n",
    "import math"
   ]
  },
  {
   "cell_type": "code",
   "execution_count": 41,
   "metadata": {},
   "outputs": [
    {
     "data": {
      "text/html": [
       "<div>\n",
       "<style scoped>\n",
       "    .dataframe tbody tr th:only-of-type {\n",
       "        vertical-align: middle;\n",
       "    }\n",
       "\n",
       "    .dataframe tbody tr th {\n",
       "        vertical-align: top;\n",
       "    }\n",
       "\n",
       "    .dataframe thead th {\n",
       "        text-align: right;\n",
       "    }\n",
       "</style>\n",
       "<table border=\"1\" class=\"dataframe\">\n",
       "  <thead>\n",
       "    <tr style=\"text-align: right;\">\n",
       "      <th></th>\n",
       "      <th>year</th>\n",
       "      <th>month</th>\n",
       "      <th>day</th>\n",
       "      <th>datetime</th>\n",
       "    </tr>\n",
       "  </thead>\n",
       "  <tbody>\n",
       "    <tr>\n",
       "      <th>5</th>\n",
       "      <td>1966</td>\n",
       "      <td>3</td>\n",
       "      <td>20</td>\n",
       "      <td>1966-03-20</td>\n",
       "    </tr>\n",
       "    <tr>\n",
       "      <th>10</th>\n",
       "      <td>1971</td>\n",
       "      <td>3</td>\n",
       "      <td>30</td>\n",
       "      <td>1971-03-30</td>\n",
       "    </tr>\n",
       "    <tr>\n",
       "      <th>24</th>\n",
       "      <td>1985</td>\n",
       "      <td>4</td>\n",
       "      <td>3</td>\n",
       "      <td>1985-04-03</td>\n",
       "    </tr>\n",
       "    <tr>\n",
       "      <th>33</th>\n",
       "      <td>1994</td>\n",
       "      <td>3</td>\n",
       "      <td>31</td>\n",
       "      <td>1994-03-31</td>\n",
       "    </tr>\n",
       "    <tr>\n",
       "      <th>47</th>\n",
       "      <td>2008</td>\n",
       "      <td>3</td>\n",
       "      <td>22</td>\n",
       "      <td>2008-03-22</td>\n",
       "    </tr>\n",
       "  </tbody>\n",
       "</table>\n",
       "</div>"
      ],
      "text/plain": [
       "    year  month  day    datetime\n",
       "5   1966      3   20  1966-03-20\n",
       "10  1971      3   30  1971-03-30\n",
       "24  1985      4    3  1985-04-03\n",
       "33  1994      3   31  1994-03-31\n",
       "47  2008      3   22  2008-03-22"
      ]
     },
     "execution_count": 41,
     "metadata": {},
     "output_type": "execute_result"
    }
   ],
   "source": [
    "\n",
    "# Say something. https://www.data.jma.go.jp/sakura/data/sakura003_01.html\n",
    "\n",
    "df_web = pd.read_csv('webData.csv')\n",
    "df_web['datetime'] = list(map(lambda x,y,z: datetime.date(x,y,z), df_web['year'].values, df_web['month'].values,\n",
    "                                df_web['day'].values))\n",
    "\n",
    "\n",
    "train_years = [1966 , 1971 , 1985 , 1994 ,2008]\n",
    "\n",
    "df_web_train = df_web[df_web['year'].isin(train_years)]\n",
    "df_web_test = df_web[~df_web['year'].isin(train_years)]\n",
    "df_web_train"
   ]
  },
  {
   "cell_type": "markdown",
   "metadata": {},
   "source": [
    "***\n",
    "## 1. Prediction using the \"600 Degree Rule\" (15pts total)"
   ]
  },
  {
   "cell_type": "markdown",
   "metadata": {},
   "source": [
    "For a rough approximaton of the bloom-date, we start with a simple \"rule-based\" prediction model, called the \"600 Degree Rule\". The rule consists of logging the maximum temperature of each day, starting  on February 1st, and sum these temperatures until the sum surpasses 600$^\\circ$C. The day that this happens is the predicted bloom-date. This 600$^\\circ$C threshold is used to easily predict bloom-date in various locations varies by location. However, for more precise predictions, it should be set differently for every location. In this challenge, we verify the accuracy of the \"600 Degree Rule\" in the case of Tokyo."
   ]
  },
  {
   "cell_type": "markdown",
   "metadata": {},
   "source": [
    "### Problem 1-1: (5pts)\n",
    "From here-on, we refer to the bloom-date in a given year $j$ as $BD_{j}$. For each year in the training data, calculate the accumulated daily maximum temperature from February 1st to the actual bloom-date $BD_{j}$, and plot this accumulated value over the training period. Then, average this accumulated value as $T_{mean}$, and verify whether we should use 600$^\\circ$C as a rule for Tokyo."
   ]
  },
  {
   "cell_type": "code",
   "execution_count": 4,
   "metadata": {
    "scrolled": false
   },
   "outputs": [
    {
     "data": {
      "text/html": [
       "<div>\n",
       "<style scoped>\n",
       "    .dataframe tbody tr th:only-of-type {\n",
       "        vertical-align: middle;\n",
       "    }\n",
       "\n",
       "    .dataframe tbody tr th {\n",
       "        vertical-align: top;\n",
       "    }\n",
       "\n",
       "    .dataframe thead th {\n",
       "        text-align: right;\n",
       "    }\n",
       "</style>\n",
       "<table border=\"1\" class=\"dataframe\">\n",
       "  <thead>\n",
       "    <tr style=\"text-align: right;\">\n",
       "      <th></th>\n",
       "      <th>Unnamed: 0</th>\n",
       "      <th>year</th>\n",
       "      <th>month</th>\n",
       "      <th>day</th>\n",
       "      <th>現地平均気圧</th>\n",
       "      <th>海面平均気圧</th>\n",
       "      <th>合計降水量</th>\n",
       "      <th>1時間最大降水量</th>\n",
       "      <th>10分間最大降水量</th>\n",
       "      <th>平均気温</th>\n",
       "      <th>最高気温</th>\n",
       "      <th>最低気温</th>\n",
       "      <th>平均湿度</th>\n",
       "      <th>最低湿度</th>\n",
       "      <th>日照時間</th>\n",
       "      <th>datetime</th>\n",
       "    </tr>\n",
       "  </thead>\n",
       "  <tbody>\n",
       "    <tr>\n",
       "      <th>1826</th>\n",
       "      <td>1826</td>\n",
       "      <td>1966</td>\n",
       "      <td>1</td>\n",
       "      <td>1</td>\n",
       "      <td>1009.4</td>\n",
       "      <td>1013.9</td>\n",
       "      <td>0.0</td>\n",
       "      <td>0.0</td>\n",
       "      <td>0.0</td>\n",
       "      <td>3.3</td>\n",
       "      <td>7.9</td>\n",
       "      <td>-1.2</td>\n",
       "      <td>39</td>\n",
       "      <td>20</td>\n",
       "      <td>9.0</td>\n",
       "      <td>1966-01-01</td>\n",
       "    </tr>\n",
       "    <tr>\n",
       "      <th>1827</th>\n",
       "      <td>1827</td>\n",
       "      <td>1966</td>\n",
       "      <td>1</td>\n",
       "      <td>2</td>\n",
       "      <td>1013.8</td>\n",
       "      <td>1018.3</td>\n",
       "      <td>0.0</td>\n",
       "      <td>0.0</td>\n",
       "      <td>0.0</td>\n",
       "      <td>4.2</td>\n",
       "      <td>9.4</td>\n",
       "      <td>-0.1</td>\n",
       "      <td>37</td>\n",
       "      <td>20</td>\n",
       "      <td>9.0</td>\n",
       "      <td>1966-01-02</td>\n",
       "    </tr>\n",
       "    <tr>\n",
       "      <th>1828</th>\n",
       "      <td>1828</td>\n",
       "      <td>1966</td>\n",
       "      <td>1</td>\n",
       "      <td>3</td>\n",
       "      <td>1017.6</td>\n",
       "      <td>1022.1</td>\n",
       "      <td>0.0</td>\n",
       "      <td>0.0</td>\n",
       "      <td>0.0</td>\n",
       "      <td>5.5</td>\n",
       "      <td>10.7</td>\n",
       "      <td>-0.4</td>\n",
       "      <td>42</td>\n",
       "      <td>24</td>\n",
       "      <td>8.3</td>\n",
       "      <td>1966-01-03</td>\n",
       "    </tr>\n",
       "    <tr>\n",
       "      <th>1829</th>\n",
       "      <td>1829</td>\n",
       "      <td>1966</td>\n",
       "      <td>1</td>\n",
       "      <td>4</td>\n",
       "      <td>998.4</td>\n",
       "      <td>1002.7</td>\n",
       "      <td>22.5</td>\n",
       "      <td>9.5</td>\n",
       "      <td>2.0</td>\n",
       "      <td>3.9</td>\n",
       "      <td>7.0</td>\n",
       "      <td>2.3</td>\n",
       "      <td>74</td>\n",
       "      <td>52</td>\n",
       "      <td>0.0</td>\n",
       "      <td>1966-01-04</td>\n",
       "    </tr>\n",
       "    <tr>\n",
       "      <th>1830</th>\n",
       "      <td>1830</td>\n",
       "      <td>1966</td>\n",
       "      <td>1</td>\n",
       "      <td>5</td>\n",
       "      <td>995.9</td>\n",
       "      <td>1000.2</td>\n",
       "      <td>0.0</td>\n",
       "      <td>0.0</td>\n",
       "      <td>0.0</td>\n",
       "      <td>7.3</td>\n",
       "      <td>12.4</td>\n",
       "      <td>1.9</td>\n",
       "      <td>45</td>\n",
       "      <td>26</td>\n",
       "      <td>9.0</td>\n",
       "      <td>1966-01-05</td>\n",
       "    </tr>\n",
       "  </tbody>\n",
       "</table>\n",
       "</div>"
      ],
      "text/plain": [
       "      Unnamed: 0  year  month  day  現地平均気圧  海面平均気圧  合計降水量  1時間最大降水量  \\\n",
       "1826        1826  1966      1    1  1009.4  1013.9    0.0       0.0   \n",
       "1827        1827  1966      1    2  1013.8  1018.3    0.0       0.0   \n",
       "1828        1828  1966      1    3  1017.6  1022.1    0.0       0.0   \n",
       "1829        1829  1966      1    4   998.4  1002.7   22.5       9.5   \n",
       "1830        1830  1966      1    5   995.9  1000.2    0.0       0.0   \n",
       "\n",
       "      10分間最大降水量  平均気温  最高気温  最低気温  平均湿度  最低湿度  日照時間    datetime  \n",
       "1826        0.0   3.3   7.9  -1.2    39    20   9.0  1966-01-01  \n",
       "1827        0.0   4.2   9.4  -0.1    37    20   9.0  1966-01-02  \n",
       "1828        0.0   5.5  10.7  -0.4    42    24   8.3  1966-01-03  \n",
       "1829        2.0   3.9   7.0   2.3    74    52   0.0  1966-01-04  \n",
       "1830        0.0   7.3  12.4   1.9    45    26   9.0  1966-01-05  "
      ]
     },
     "execution_count": 4,
     "metadata": {},
     "output_type": "execute_result"
    }
   ],
   "source": [
    "# Get data from tokyo.csv\n",
    "\n",
    "df_weather = pd.read_csv(\"tokyo.csv\")\n",
    "\n",
    "# Add column 'datetime'\n",
    "df_weather['datetime'] = list(map(lambda x,y,z: datetime.date(x,y,z), df_weather['year'].values, df_weather['month'].values,\n",
    "                                df_weather['day'].values))\n",
    "\n",
    "# Split dataset to train and test set\n",
    "df_train = df_weather[df_weather['year'].isin(train_years)]\n",
    "df_test = df_weather[~df_weather['year'].isin(train_years)]\n",
    "\n",
    "df_train.head(5)"
   ]
  },
  {
   "cell_type": "code",
   "execution_count": 5,
   "metadata": {},
   "outputs": [],
   "source": [
    "#define plot function\n",
    "\n",
    "def plotCumulation(array,year,ax):\n",
    "    \n",
    "    n_bins = 40\n",
    "    \n",
    "    # plot the cumulative histogram\n",
    "    n, bins, patches = ax.hist(array, n_bins, density=True, histtype='step', cumulative=True, label=str(year))\n",
    "\n",
    "    # tidy up the figure\n",
    "    ax.grid(True)\n",
    "    ax.legend(loc='right')\n",
    "    ax.set_title('Cumulation of highest temperature ')\n",
    "    ax.set_xlabel('Highest temperature (celsius degree)')\n",
    "    ax.set_ylabel('Percent')\n",
    "\n",
    "    "
   ]
  },
  {
   "cell_type": "code",
   "execution_count": 45,
   "metadata": {},
   "outputs": [
    {
     "name": "stdout",
     "output_type": "stream",
     "text": [
      "[607.6 663.4 677.8 656.6 596.7]\n",
      "T_mean:640.4200000000001\n"
     ]
    },
    {
     "data": {
      "image/png": "[encoded data removed]",
      "text/plain": [
       "<Figure size 576x288 with 1 Axes>"
      ]
     },
     "metadata": {
      "needs_background": "light"
     },
     "output_type": "display_data"
    }
   ],
   "source": [
    "# Filter train set\n",
    "train_600 = df_train[['year','month','day','最高気温','datetime']]\n",
    "fig, ax = plt.subplots(figsize=(8, 4))\n",
    "sum_arr = []\n",
    "for i in train_years:\n",
    "    data = train_600[train_600['year'] == i]\n",
    "    \n",
    "    actual_day = df_web_train[df_web_train['year'] == i]\n",
    "    \n",
    "    x = datetime.date(i, 2, 1)\n",
    "    y = actual_day['datetime'].values[0]\n",
    "\n",
    "    array = data[ (data['datetime'] >= x) & (data['datetime'] <= y) ]\n",
    "    \n",
    "    sum_arr.append(array['最高気温'].sum())\n",
    "#     print(array)\n",
    "#     print(array['最高気温'])\n",
    "    plotCumulation(array['最高気温'].values, i, ax)\n",
    "plt.show\n",
    "np_sum_arr = np.array(sum_arr)\n",
    "t_mean = np.average(np_sum_arr)\n",
    "print(np_sum_arr)\n",
    "print (\"T_mean:\" + str(t_mean))\n"
   ]
  },
  {
   "cell_type": "markdown",
   "metadata": {},
   "source": [
    "##### $T_{mean}$ = 640.42 \n",
    "##### We should't use 600$^\\circ$C as a rule for Tokyo."
   ]
  },
  {
   "cell_type": "markdown",
   "metadata": {},
   "source": [
    "### Problem 1-2: (10pts)\n",
    "\n",
    "Use the average accumulated value $T_{mean}$ calculated in 1-1 to predict $BD_{j}$ for each test year, and show the error from the actual $BD_{j}$. Compare to the prediction results when 600$^\\circ$C is used a threshold value, and evaluate both models using the coefficient of determination ($R^2$ score)."
   ]
  },
  {
   "cell_type": "code",
   "execution_count": 7,
   "metadata": {},
   "outputs": [],
   "source": [
    "# Get data\n",
    "test_1_2 = df_test[['year','month','day','最高気温','datetime']]\n",
    "test_years = set(test_1_2['year'].values)\n"
   ]
  },
  {
   "cell_type": "code",
   "execution_count": 8,
   "metadata": {},
   "outputs": [],
   "source": [
    "# define the function that predicting BD and count the number of day from Feb, 1st to BD\n",
    "def prob1_2_a(threshold):\n",
    "    pred_data = {}\n",
    "    for i in test_years:\n",
    "        x = datetime.date(i, 2, 1)\n",
    "        data = test_1_2[(test_1_2['year'] == i) & (test_1_2['datetime'] >= x)]\n",
    "        sum = 0\n",
    "        count = 0\n",
    "        for index, row in data.iterrows():\n",
    "            sum += row['最高気温']\n",
    "            count += 1\n",
    "            if sum > threshold:\n",
    "                #return dict{year: [sum-of-temp, BD, count]}\n",
    "                pred_data.update({i:[sum, row['datetime'],count]})\n",
    "                break\n",
    "    return pred_data\n"
   ]
  },
  {
   "cell_type": "code",
   "execution_count": 46,
   "metadata": {},
   "outputs": [
    {
     "name": "stdout",
     "output_type": "stream",
     "text": [
      "[60, 60, 60, 62, 61, 58, 58, 65, 66, 57, 59, 61, 57, 51, 50, 59, 51, 60, 54, 51, 59, 71, 62, 51, 62, 48, 48, 58, 53, 52, 59, 60, 49, 55, 52, 59, 51, 44, 55, 47, 59, 49, 48, 49, 50, 56, 60, 44, 53, 51, 50, 49]\n"
     ]
    }
   ],
   "source": [
    "# number of days from Feb, 1st to actual-bloom day\n",
    "y_actual = []\n",
    "for i in test_years:\n",
    "    x = datetime.date(i, 2, 1)\n",
    "    actual_day = df_web_test[df_web_test['year'] == i]\n",
    "    y = actual_day['datetime'].values[0]\n",
    "    data = test_1_2[(test_1_2['datetime'] >= x) & (test_1_2['datetime'] <= y)]\n",
    "    y_actual.append(len(data.index))\n",
    "print(y_actual)"
   ]
  },
  {
   "cell_type": "code",
   "execution_count": 10,
   "metadata": {},
   "outputs": [],
   "source": [
    "# define R score function\n",
    "def r_square(y_actual, y_pred):\n",
    "    y_actual = np.array(y_actual)\n",
    "    y_pred = np.array(y_pred)\n",
    "    y_mean = np.average(y_actual)\n",
    "    ss_res = np.sum((y_pred - y_actual)**2)\n",
    "    ss_tot = np.sum((y_actual - y_mean)**2)\n",
    "    return 1 - ss_res/ss_tot\n"
   ]
  },
  {
   "cell_type": "code",
   "execution_count": 11,
   "metadata": {},
   "outputs": [
    {
     "name": "stdout",
     "output_type": "stream",
     "text": [
      "[53, 47, 55, 59, 59, 55, 54, 57, 59, 57, 53, 58, 57, 52, 53, 57, 49, 58, 54, 53, 54, 69, 61, 52, 58, 50, 50, 52, 52, 52, 53, 56, 49, 50, 49, 54, 50, 45, 55, 46, 54, 51, 47, 48, 51, 53, 58, 47, 53, 50, 47, 48]\n",
      "[56, 50, 57, 61, 61, 57, 58, 60, 63, 59, 56, 60, 59, 55, 56, 60, 52, 60, 57, 56, 58, 71, 63, 55, 62, 53, 52, 55, 55, 54, 56, 59, 52, 53, 52, 57, 52, 47, 58, 49, 57, 54, 50, 51, 55, 56, 60, 49, 55, 53, 50, 51]\n"
     ]
    }
   ],
   "source": [
    "y_pred_600 = []\n",
    "for i in prob1_2_a(600).items():\n",
    "    y_pred_600.append(i[1][2])\n",
    "print(y_pred_600)\n",
    "\n",
    "y_pred_t_mean = []\n",
    "for i in prob1_2_a(t_mean).items():\n",
    "    y_pred_t_mean.append(i[1][2])\n",
    "print(y_pred_t_mean)"
   ]
  },
  {
   "cell_type": "code",
   "execution_count": 12,
   "metadata": {},
   "outputs": [
    {
     "name": "stdout",
     "output_type": "stream",
     "text": [
      "0.5841220511371663\n",
      "0.7219946320101709\n"
     ]
    }
   ],
   "source": [
    "print(r_square(y_actual, y_pred_600 ))\n",
    "print(r_square(y_actual, y_pred_t_mean ))"
   ]
  },
  {
   "cell_type": "markdown",
   "metadata": {},
   "source": [
    "***\n",
    "## 2. Linear Regression Model: Transform to Standard Temperature (30pts total)"
   ]
  },
  {
   "cell_type": "markdown",
   "metadata": {},
   "source": [
    "The year to year fluctuation of the bloom-date depends heavily upon the actual temperature fluctuation (not just the accumulated maximum). In order to get to a more physiologically realistic metric,  Sugihara et al. (1986) considered the actual effect of temperature on biochemical activity. They introduced a method of \"standardizing\" the temperatures measured, according to the fluctuation relative to a standard temperature.\n",
    "\n",
    "In order to make such a standardization, we apply two major assumptions, outlined below.\n",
    "\n",
    "#### 1) The Arrhenius equation: <br>\n",
    "\n",
    "The first assumption, also known in thermodynamics as the \"Arrhenius equation\", deals with chemical reaction rates and can be written as follows:\n",
    "\n",
    "$$\n",
    "k = A \\exp{ \\Bigl(- \\frac{E_{a}}{RT}} \\Bigr)\n",
    "$$ <br>\n",
    "\n",
    "Basically, it says that each reaction has an activation energy, $E_{a}$ and a pre-exponential factor $A$. Knowing these values for the particular equation, we can find the rate constant $k$ if we know the temperature, $T$, and applying the universal gas constant, $R = 8.314 \\rm [J/K・mol]$.\n",
    "\n",
    "#### 2) Constant output at constant temperature: <br>\n",
    "\n",
    "The second assumption, is simply that the output of a reaction is a simple product of the duration and the rate constant $k$, and that product is constant even at different temperatures.\n",
    "    \n",
    "$$\n",
    "tk = t'k' = t''k'' = \\cdots = \\rm{const}\n",
    "$$ <br>\n",
    "\n",
    "\n",
    "Making the assumptions above, we can determine a \"standard reaction time\", $t_{s}$ required for the bloom-date to occur. We can do so in the following way:\n",
    "\n",
    "<br>\n",
    "$$\n",
    "t_{s} = \\exp \\Bigl( \\frac{E_{a}(T_{i, j} - T_{s})}{RT_{i, j}T_{s}}\\Bigr)\n",
    "$$ <br>\n",
    "\n",
    "We define $T_{i, j}$ as the daily average temperature, and use a standard temperature of $T_{s} = 17^\\circ\\rm{C}$. For a given year $j$, with the last day of the hibernation phase set as $D_ {j}$, we define the number of \"transformed temperature days\",  $DTS_{ J}$,  needed to reach from $D_ {j}$ to the bloom-date $BD_{j}$ with the following equation:\n",
    "\n",
    "\n",
    "<br>\n",
    "$$\n",
    "DTS_{j} = \\sum_{i=D_{j}}^{BD_{j}} t_{s} = \\sum_{i=D_{j}}^{BD_{j}} \\exp \\Bigl( \\frac{E_{a}(T_{i, j} - T_{s})}{RT_{i, j}T_{s}}\\Bigr)\n",
    "$$ <br>\n",
    "\n",
    "\n",
    "\n",
    "From that equation, we can find the average $DTS$ for $x$ number of years ($DTS_{ mean}$) as follows: \n",
    "\n",
    "<br>\n",
    "$$\n",
    "\\begin{align}\n",
    "DTS_{\\rm{mean}} &= \\frac{1}{x} \\sum_{j}^{x} DTS_{j} \\\\\n",
    "&= \\frac{1}{x} \\sum_{j}^{x} \\sum_{i=D_{j}}^{BD_{j}} \\exp \\Bigl( \\frac{E_{a}(T_{i, j} - T_{s})}{RT_{i, j}T_{s}}\\Bigr)\n",
    "\\end{align}\n",
    "$$ <br> <br>\n",
    "\n",
    "In this exercise, we assume that $DTS_{ mean}$ and $E_{ a}$ are constant values, and we use the data from the training years to fit these 2 constants. The exercise consists of 4 steps:\n",
    "1. Calculate the last day of the hibernation phase $D_ {j}$ for every year $j$.\n",
    "2. For every year $j$, calculate $DTS_{ j}$ as a function of $E_{ a}$, then calculate the average (over training years) $DTS_{ mean}$ also as a function of $E_{ a}$.\n",
    "3. For every year $j$, and for every value of $E_{ a}$, accumulate $t_{s}$ from $D_ {j}$ and predict the bloom date $BD_{j}^{\\rm{pred}}$ as the day the accumulated value surpasses $DTS_{ mean}$. Calculate the bloom date prediction error as a function of $E_{ a}$, and find the optimal $E_{ a}$ value that minimizes that error.\n",
    "4. Use the previously calculated values of $D_ {j}$, $DTS_{ mean}$, and $E_{ a}$ to predict bloom-day on years from the test set.\n"
   ]
  },
  {
   "cell_type": "markdown",
   "metadata": {},
   "source": [
    "### Problem 2-1: (5pts)\n",
    "According to Hayashi et al. (2012), the day on which the sakura will awaken from their hibernation phase, $D_{j}$, for a given location, can be approximated by the following equation:\n",
    "<br> <br>\n",
    "$$\n",
    "D_{j} = 136.75 - 7.689 \\phi + 0.133 \\phi^{2} -1.307\\ln L + 0.144T_{F} + 0.285T_{F}^2\n",
    "$$ <br>\n",
    "\n",
    "where $\\phi$ is the latitude [°N], $L$ is the distance from the nearest coastline [km], and $T_{F}$ is that location's average temperature [°C] over the first 3 months of a given year. In the case of Tokyo, $\\phi = 35°40'$ and $L=4\\rm{km}$.\n",
    "\n",
    "Find the $D_{j}$ value for every year $j$ from 1961 to 2017 (including the test years), and plot this value on a graph. \n",
    "\n",
    "(In Problem 1, we had assumed a $D_j$ of February 1st.)"
   ]
  },
  {
   "cell_type": "code",
   "execution_count": 13,
   "metadata": {},
   "outputs": [
    {
     "data": {
      "text/plain": [
       "{1961: [5.471111111111112],\n",
       " 1962: [6.254444444444444],\n",
       " 1963: [5.2155555555555555],\n",
       " 1964: [5.752747252747253],\n",
       " 1965: [5.354444444444445],\n",
       " 1966: [7.138888888888889],\n",
       " 1967: [6.334444444444443],\n",
       " 1968: [6.740659340659341],\n",
       " 1969: [6.438888888888887],\n",
       " 1970: [5.3355555555555565],\n",
       " 1971: [6.445555555555556],\n",
       " 1972: [7.164835164835163],\n",
       " 1973: [6.985555555555558],\n",
       " 1974: [5.601111111111111],\n",
       " 1975: [5.908888888888888],\n",
       " 1976: [7.037362637362637],\n",
       " 1977: [5.9188888888888895],\n",
       " 1978: [6.2299999999999995],\n",
       " 1979: [8.307777777777778],\n",
       " 1980: [6.364835164835165],\n",
       " 1981: [6.262222222222222],\n",
       " 1982: [7.082222222222222],\n",
       " 1983: [6.983333333333333],\n",
       " 1984: [4.246153846153846],\n",
       " 1985: [6.110000000000001],\n",
       " 1986: [5.5488888888888885],\n",
       " 1987: [7.328888888888889],\n",
       " 1988: [7.035164835164834],\n",
       " 1989: [8.413333333333332],\n",
       " 1990: [7.797777777777778],\n",
       " 1991: [7.487777777777778],\n",
       " 1992: [7.810989010989011],\n",
       " 1993: [7.5200000000000005],\n",
       " 1994: [6.727777777777779],\n",
       " 1995: [7.2411111111111115],\n",
       " 1996: [7.093406593406593],\n",
       " 1997: [8.153333333333334],\n",
       " 1998: [7.514444444444445],\n",
       " 1999: [7.834444444444444],\n",
       " 2000: [7.684615384615384],\n",
       " 2001: [7.132222222222222],\n",
       " 2002: [9.234444444444444],\n",
       " 2003: [6.8711111111111105],\n",
       " 2004: [8.218681318681318],\n",
       " 2005: [7.112222222222223],\n",
       " 2006: [7.205555555555556],\n",
       " 2007: [9.05],\n",
       " 2008: [7.4021978021978025],\n",
       " 2009: [8.193333333333335],\n",
       " 2010: [7.5744444444444445],\n",
       " 2011: [6.704444444444445],\n",
       " 2012: [6.376923076923077],\n",
       " 2013: [7.992222222222222],\n",
       " 2014: [7.604444444444446],\n",
       " 2015: [7.302222222222222],\n",
       " 2016: [7.829670329670329],\n",
       " 2017: [7.09]}"
      ]
     },
     "execution_count": 13,
     "metadata": {},
     "output_type": "execute_result"
    }
   ],
   "source": [
    "df_first_3mon = df_weather[['year','month','平均気温','datetime']]\n",
    "df_first_3mon = df_first_3mon[df_first_3mon['month'].isin([1,2,3])]\n",
    "prob2_1_year = set(df_first_3mon['year'].values)\n",
    "tf = {}\n",
    "for i in prob2_1_year:\n",
    "    data = df_first_3mon[df_first_3mon['year'] == i]\n",
    "    tf.update({i:[data['平均気温'].mean()]})\n",
    "tf    # Average of location's average temperature [°C] over the first 3 months of a given year"
   ]
  },
  {
   "cell_type": "code",
   "execution_count": 14,
   "metadata": {},
   "outputs": [],
   "source": [
    "# define D_j function\n",
    "def D_j(tf):\n",
    "    phi = 107/3       # = 35*40'\n",
    "    l = 4\n",
    "    return 136.75 - 7.689*phi + 0.133*(phi**2) - 1.307*(math.log(l)) + 0.144*tf + 0.285*(tf**2)\n"
   ]
  },
  {
   "cell_type": "code",
   "execution_count": 15,
   "metadata": {},
   "outputs": [
    {
     "data": {
      "text/plain": [
       "{1961: [5.471111111111112, 39.20665223297926],\n",
       " 1962: [6.254444444444444, 41.937182510757026],\n",
       " 1963: [5.2155555555555555, 38.3915066774237],\n",
       " 1964: [5.752747252747253, 40.14810542407713],\n",
       " 1965: [5.354444444444445, 38.82990251075704],\n",
       " 1966: [7.138888888888889, 45.44055539964592],\n",
       " 1967: [6.334444444444443, 42.23572917742369],\n",
       " 1968: [6.740659340659341, 43.807945171692154],\n",
       " 1969: [6.438888888888887, 42.63098873297925],\n",
       " 1970: [5.3355555555555565, 38.7696346774237],\n",
       " 1971: [6.445555555555556, 42.6564291774237],\n",
       " 1972: [7.164835164835163, 45.55006324921901],\n",
       " 1973: [6.985555555555558, 44.80123717742371],\n",
       " 1974: [5.601111111111111, 39.63559806631259],\n",
       " 1975: [5.908888888888888, 40.689536899645915],\n",
       " 1976: [7.037362637362637, 45.01574604115236],\n",
       " 1977: [5.9188888888888895, 40.724686066312586],\n",
       " 1978: [6.2299999999999995, 41.84668754779407],\n",
       " 1979: [8.307777777777778, 50.75467495520148],\n",
       " 1980: [6.364835164835165, 42.35009841405418],\n",
       " 1981: [6.262222222222222, 41.96604778853481],\n",
       " 1982: [7.082222222222222, 45.202724455201476],\n",
       " 1983: [6.983333333333333, 44.792070214460736],\n",
       " 1984: [4.246153846153846, 35.63783660992425],\n",
       " 1985: [6.110000000000001, 41.40737954779408],\n",
       " 1986: [5.5488888888888885, 39.46212889964592],\n",
       " 1987: [7.328888888888889, 46.25134556631259],\n",
       " 1988: [7.035164835164834, 45.00661489757066],\n",
       " 1989: [8.413333333333332, 51.27290171446073],\n",
       " 1990: [7.797777777777778, 48.34029245520148],\n",
       " 1991: [7.487777777777778, 46.94517362186814],\n",
       " 1992: [7.810989010989011, 48.40096502436695],\n",
       " 1993: [7.5200000000000005, 47.08763504779407],\n",
       " 1994: [6.727777777777779, 43.756644288534815],\n",
       " 1995: [7.2411111111111115, 45.87421273297926],\n",
       " 1996: [7.093406593406593, 45.249520470569095],\n",
       " 1997: [8.153333333333334, 50.007871714460734],\n",
       " 1998: [7.514444444444445, 47.06303051075703],\n",
       " 1999: [7.834444444444444, 48.508929177423695],\n",
       " 2000: [7.684615384615384, 47.82467004187691],\n",
       " 2001: [7.132222222222222, 45.41248028853481],\n",
       " 2002: [9.234444444444444, 55.52101584409036],\n",
       " 2003: [6.8711111111111105, 44.332798899645915],\n",
       " 2004: [8.218681318681318, 50.32219710382594],\n",
       " 2005: [7.112222222222223, 45.32840695520148],\n",
       " 2006: [7.205555555555556, 45.72269984409037],\n",
       " 2007: [9.05, 54.53330354779408],\n",
       " 2008: [7.4021978021978025, 46.56967923762622],\n",
       " 2009: [8.193333333333335, 50.19998371446074],\n",
       " 2010: [7.5744444444444445, 47.32969051075703],\n",
       " 2011: [6.704444444444445, 43.66396001075704],\n",
       " 2012: [6.376923076923077, 42.39573513063431],\n",
       " 2013: [7.992222222222222, 49.24332162186815],\n",
       " 2014: [7.604444444444446, 47.46379001075704],\n",
       " 2015: [7.302222222222222, 46.136309121868145],\n",
       " 2016: [7.829670329670329, 48.48692875459277],\n",
       " 2017: [7.09, 45.235259547794065]}"
      ]
     },
     "execution_count": 15,
     "metadata": {},
     "output_type": "execute_result"
    }
   ],
   "source": [
    "for i in tf.items():\n",
    "    i[1].append(D_j(i[1][0]))\n",
    "tf     # Append D_j"
   ]
  },
  {
   "cell_type": "code",
   "execution_count": 16,
   "metadata": {},
   "outputs": [
    {
     "data": {
      "image/png": "[encoded data removed]",
      "text/plain": [
       "<Figure size 432x288 with 1 Axes>"
      ]
     },
     "metadata": {
      "needs_background": "light"
     },
     "output_type": "display_data"
    }
   ],
   "source": [
    "x = [i[0] for i in tf.items()]\n",
    "y = [i[1][1] for i in tf.items()]\n",
    "plt.plot(x, y,'o-')\n",
    "plt.xlabel('Year')\n",
    "plt.ylabel(r'$D_j$')\n",
    "plt.title('The last day of the hibernation phase')\n",
    "plt.show()"
   ]
  },
  {
   "cell_type": "markdown",
   "metadata": {},
   "source": [
    "### Problem 2-2: (10pts)\n",
    "Calcluate $DTS_j$ for each year $j$ in the training set for discrete values of $E_{a}$, varying from 5 to 40kcal ($E_{a} = 5, 6, 7, \\cdots, 40 \\,\\rm{kcal}$), and plot this $DTS_j$ against $E_{a}$. Also calculate the average of $DTS_{j}$ over the training period, and indicate it on the plot as $DTS_{mean}$. Pay attention to the units of **every parameter** ($T_{i,j}$, $E_{a}$, ...) in the equation for $t_{s}$. \n"
   ]
  },
  {
   "cell_type": "code",
   "execution_count": 17,
   "metadata": {},
   "outputs": [],
   "source": [
    "def J(E_a):\n",
    "    return E_a*4184\n",
    "\n",
    "def DTS(E_a, np_t_ij):\n",
    "    np_t_ij = np.exp((J(E_a)*(np_t_ij-17)) / (8.314*((np_t_ij + 274.15)*(17 + 274.15))))\n",
    "    return np.sum(np_t_ij)\n"
   ]
  },
  {
   "cell_type": "code",
   "execution_count": 47,
   "metadata": {},
   "outputs": [
    {
     "data": {
      "text/plain": [
       "{5: [[1966, 26.73941212873357],\n",
       "  [1971, 35.56861087827697],\n",
       "  [1985, 38.794862310822474],\n",
       "  [1994, 35.37049014624665],\n",
       "  [2008, 28.16469079970057]],\n",
       " 6: [[1966, 25.518517805041558],\n",
       "  [1971, 33.69059960150165],\n",
       "  [1985, 36.61865345537512],\n",
       "  [1994, 33.43263153229508],\n",
       "  [2008, 26.841973678479814]],\n",
       " 7: [[1966, 24.36397644332804],\n",
       "  [1971, 31.928027476687596],\n",
       "  [1985, 34.57487562885979],\n",
       "  [1994, 31.60632529094916],\n",
       "  [2008, 25.589837769969535]],\n",
       " 8: [[1966, 23.271781606737804],\n",
       "  [1971, 30.273257079991623],\n",
       "  [1985, 32.65513086078545],\n",
       "  [1994, 29.884883822607833],\n",
       "  [2008, 24.40419334798717]],\n",
       " 9: [[1966, 22.238185511477777],\n",
       "  [1971, 28.719179717142502],\n",
       "  [1985, 30.851570475104566],\n",
       "  [1994, 28.26203503145322],\n",
       "  [2008, 23.28120183935527]],\n",
       " 10: [[1966, 21.259681549781376],\n",
       "  [1971, 27.25917760889806],\n",
       "  [1985, 29.15685819289179],\n",
       "  [1994, 26.73189563377142],\n",
       "  [2008, 22.217259698382545]],\n",
       " 11: [[1966, 20.33298803346634],\n",
       "  [1971, 25.887088850509688],\n",
       "  [1985, 27.564135774202537],\n",
       "  [1994, 25.28894623758049],\n",
       "  [2008, 21.208983354414226]],\n",
       " 12: [[1966, 19.455033070668264],\n",
       "  [1971, 24.59717493743863],\n",
       "  [1985, 26.06699102035643],\n",
       "  [1994, 23.928008072161653],\n",
       "  [2008, 20.253195158916128]],\n",
       " 13: [[1966, 18.622940494718367],\n",
       "  [1971, 23.38409066540165],\n",
       "  [1985, 24.65942797075084],\n",
       "  [1994, 22.644221254681902],\n",
       "  [2008, 19.34691026372]],\n",
       " 14: [[1966, 17.834016770045952],\n",
       "  [1971, 22.242856227430963],\n",
       "  [1985, 23.33583914022499],\n",
       "  [1994, 21.433024489060873],\n",
       "  [2008, 18.487324366850952]],\n",
       " 15: [[1966, 17.08573880545976],\n",
       "  [1971, 21.168831344113265],\n",
       "  [1985, 22.090979654036886],\n",
       "  [1994, 20.290136099619183],\n",
       "  [2008, 17.671802266807834]],\n",
       " 16: [[1966, 16.37574261023061],\n",
       "  [1971, 20.157691275610873],\n",
       "  [1985, 20.91994314774832],\n",
       "  [1994, 19.211536308893173],\n",
       "  [2008, 16.89786717030002]],\n",
       " 17: [[1966, 15.70181273309087],\n",
       "  [1971, 19.20540457554818],\n",
       "  [1985, 19.818139308798198],\n",
       "  [1994, 18.193450675352192],\n",
       "  [2008, 16.163190702281252]],\n",
       " 18: [[1966, 15.06187242861267],\n",
       "  [1971, 18.3082124574422],\n",
       "  [1985, 18.78127294533719],\n",
       "  [1994, 17.23233461264622],\n",
       "  [2008, 15.465583570685327]],\n",
       " 19: [[1966, 14.453974499452137],\n",
       "  [1971, 17.462609654136536],\n",
       "  [1985, 17.80532447604855],\n",
       "  [1994, 16.324858917478466],\n",
       "  [2008, 14.802986841578726]],\n",
       " 20: [[1966, 13.87629276667551],\n",
       "  [1971, 16.66532665972745],\n",
       "  [1985, 16.886531742239043],\n",
       "  [1994, 15.467896238270523],\n",
       "  [2008, 14.173463783520372]],\n",
       " 21: [[1966, 13.327114123836948],\n",
       "  [1971, 15.913313251806764],\n",
       "  [1985, 16.021373050493295],\n",
       "  [1994, 14.65850842149663],\n",
       "  [2008, 13.575192242775593]],\n",
       " 22: [[1966, 12.804831133677549],\n",
       "  [1971, 15.203723199543283],\n",
       "  [1985, 15.20655136068687],\n",
       "  [1994, 13.89393467693499],\n",
       "  [2008, 13.006457513685813]],\n",
       " 23: [[1966, 12.307935129279755],\n",
       "  [1971, 14.533900070232734],\n",
       "  [1985, 14.438979540183444],\n",
       "  [1994, 13.171580507143178],\n",
       "  [2008, 12.465645670961933]],\n",
       " 24: [[1966, 11.835009784258371],\n",
       "  [1971, 13.901364053509726],\n",
       "  [1985, 13.7157666106368],\n",
       "  [1994, 12.489007350234425],\n",
       "  [2008, 11.951237332961735]],\n",
       " 25: [[1966, 11.384725119114917],\n",
       "  [1971, 13.303799728478538],\n",
       "  [1985, 13.034204919008673],\n",
       "  [1994, 11.843922888533049],\n",
       "  [2008, 11.461801827142041]],\n",
       " 26: [[1966, 10.95583191324136],\n",
       "  [1971, 12.739044704619525],\n",
       "  [1985, 12.391758169230908],\n",
       "  [1994, 11.2341719789405],\n",
       "  [2008, 10.995991730856794]],\n",
       " 27: [[1966, 10.547156494245769],\n",
       "  [1971, 12.205079072501299],\n",
       "  [1985, 11.786050255410357],\n",
       "  [1994, 10.657728163866176],\n",
       "  [2008, 10.552537762513166]],\n",
       " 28: [[1966, 10.157595878299484],\n",
       "  [1971, 11.700015605108723],\n",
       "  [1985, 11.214854841624346],\n",
       "  [1994, 10.112685724386829],\n",
       "  [2008, 10.130243999809512]],\n",
       " 29: [[1966, 9.786113237084281],\n",
       "  [1971, 11.222090655012963],\n",
       "  [1985, 10.676085637206226],\n",
       "  [1994, 9.597252239909588],\n",
       "  [2008, 9.72798340337068]],\n",
       " 30: [[1966, 9.43173366866023],\n",
       "  [1971, 10.769655696690934],\n",
       "  [1985, 10.167787319996393],\n",
       "  [1994, 9.109741621041715],\n",
       "  [2008, 9.344693625576092]],\n",
       " 31: [[1966, 9.093540251190214],\n",
       "  [1971, 10.341169467072977],\n",
       "  [1985, 9.68812706335451],\n",
       "  [1994, 8.648567584627886],\n",
       "  [2008, 8.97937308575284]],\n",
       " 32: [[1966, 8.770670359955009],\n",
       "  [1971, 9.93519066088366],\n",
       "  [1985, 9.23538662581197],\n",
       "  [1994, 8.212237542015608],\n",
       "  [2008, 8.63107729418634]],\n",
       " 33: [[1966, 8.462312229482023],\n",
       "  [1971, 9.550371140562742],\n",
       "  [1985, 8.807954965107257],\n",
       "  [1994, 7.799346873562581],\n",
       "  [2008, 8.298915408592364]],\n",
       " 34: [[1966, 8.167701743899297],\n",
       "  [1971, 9.185449623532227],\n",
       "  [1985, 8.404321341006845],\n",
       "  [1994, 7.408573564217188],\n",
       "  [2008, 7.982047007802533]],\n",
       " 35: [[1966, 7.8861194398215835],\n",
       "  [1971, 8.839245812329526],\n",
       "  [1985, 8.023068873785142],\n",
       "  [1994, 7.038673176694277],\n",
       "  [2008, 7.67967906844654]],\n",
       " 36: [[1966, 7.616887707184102],\n",
       "  [1971, 8.510654935673344],\n",
       "  [1985, 7.662868527532868],\n",
       "  [1994, 6.688474140342355],\n",
       "  [2008, 7.391063131374166]],\n",
       " 37: [[1966, 7.359368174468355],\n",
       "  [1971, 8.198642670883817],\n",
       "  [1985, 7.322473489596364],\n",
       "  [1994, 6.356873335263334],\n",
       "  [2008, 7.115492645453216]],\n",
       " 38: [[1966, 7.112959265718954],\n",
       "  [1971, 7.902240420256469],\n",
       "  [1985, 7.0007139194328225],\n",
       "  [1994, 6.042831952610078],\n",
       "  [2008, 6.852300477211058]],\n",
       " 39: [[1966, 6.877093917636253],\n",
       "  [1971, 7.620540916003975],\n",
       "  [1985, 6.696492042008922],\n",
       "  [1994, 5.745371613257109],\n",
       "  [2008, 6.600856575561368]],\n",
       " 40: [[1966, 6.65123744585178],\n",
       "  [1971, 7.35269413024334],\n",
       "  [1985, 6.408777562582993],\n",
       "  [1994, 5.463570728222806],\n",
       "  [2008, 6.360565781578368]]}"
      ]
     },
     "execution_count": 47,
     "metadata": {},
     "output_type": "execute_result"
    }
   ],
   "source": [
    "E_a = [i for i in range(5,41)]\n",
    "df_prob2_2 = df_train[['year','month','day','平均気温','datetime']]\n",
    "DTS_dict = {}\n",
    "for i in E_a:\n",
    "    DTS_dict.update({i:[]})\n",
    "    for year in train_years:\n",
    "        data = df_prob2_2[df_prob2_2['year'] == year]\n",
    "        \n",
    "        actual_day = df_web_train[df_web_train['year'] == year]\n",
    "        y = actual_day['datetime'].values[0]\n",
    "        Dj = datetime.date(year,1,1)+ timedelta(days=(math.floor(tf[year][1])))\n",
    "        data = data[(data['datetime'] >= Dj) & (data['datetime'] <= y)]\n",
    "        DTS_dict[i].append([year,DTS(i,data['平均気温'].values)])\n",
    "DTS_dict"
   ]
  },
  {
   "cell_type": "code",
   "execution_count": 48,
   "metadata": {},
   "outputs": [
    {
     "data": {
      "text/plain": [
       "{5: 32.927613252756046,\n",
       " 6: 31.220475214538645,\n",
       " 7: 29.612608521958826,\n",
       " 8: 28.097849343621977,\n",
       " 9: 26.670434514906667,\n",
       " 10: 25.32497453674504,\n",
       " 11: 24.056428450034655,\n",
       " 12: 22.86008045190822,\n",
       " 13: 21.731518129854553,\n",
       " 14: 20.666612198722746,\n",
       " 15: 19.661497634007386,\n",
       " 16: 18.712556102556597,\n",
       " 17: 17.81639959901414,\n",
       " 18: 16.96985520294472,\n",
       " 19: 16.169950877738884,\n",
       " 20: 15.413902238086582,\n",
       " 21: 14.699100218081844,\n",
       " 22: 14.023099576905702,\n",
       " 23: 13.38360818356021,\n",
       " 24: 12.778477026320212,\n",
       " 25: 12.205690896455444,\n",
       " 26: 11.663359699377818,\n",
       " 27: 11.149710349707354,\n",
       " 28: 10.66307920984578,\n",
       " 29: 10.201905034516747,\n",
       " 30: 9.764722386393073,\n",
       " 31: 9.350155490399686,\n",
       " 32: 8.956912496570517,\n",
       " 33: 8.583780123461393,\n",
       " 34: 8.229618656091619,\n",
       " 35: 7.893357274215414,\n",
       " 36: 7.573989688421366,\n",
       " 37: 7.270570063133016,\n",
       " 38: 6.9822092070458766,\n",
       " 39: 6.708071012893525,\n",
       " 40: 6.447369129695858}"
      ]
     },
     "execution_count": 48,
     "metadata": {},
     "output_type": "execute_result"
    }
   ],
   "source": [
    "DTS_mean = {}\n",
    "for index,value in DTS_dict.items():\n",
    "    arr = []\n",
    "    for i in value:\n",
    "        arr.append(i[1])\n",
    "    DTS_mean.update({index:(sum(arr)/len(arr))})\n",
    "DTS_mean"
   ]
  },
  {
   "cell_type": "code",
   "execution_count": 49,
   "metadata": {},
   "outputs": [
    {
     "data": {
      "image/png": "[encoded data removed]",
      "text/plain": [
       "<Figure size 432x288 with 1 Axes>"
      ]
     },
     "metadata": {
      "needs_background": "light"
     },
     "output_type": "display_data"
    }
   ],
   "source": [
    "for index,value in DTS_dict.items():\n",
    "    plt.plot([i[0] for i in value],[i[1] for i in value],'o-')\n",
    "\n",
    "plt.xlabel('Year')\n",
    "plt.ylabel(r'$DTS_j$')\n",
    "plt.title('The number of \"transformed temperature days\"')\n",
    "\n",
    "plt.show()"
   ]
  },
  {
   "cell_type": "code",
   "execution_count": 50,
   "metadata": {},
   "outputs": [
    {
     "data": {
      "image/png": "[encoded data removed]",
      "text/plain": [
       "<Figure size 432x288 with 1 Axes>"
      ]
     },
     "metadata": {
      "needs_background": "light"
     },
     "output_type": "display_data"
    }
   ],
   "source": [
    "\n",
    "\n",
    "plt.plot([i for i,v in DTS_mean.items()],[v for i,v in DTS_mean.items()],'o-')\n",
    "\n",
    "plt.xlabel(r'$E_{a}$')\n",
    "plt.ylabel(r'$DTS_{mean}$')\n",
    "plt.title('The average DTS')\n",
    "\n",
    "plt.show()"
   ]
  },
  {
   "cell_type": "markdown",
   "metadata": {},
   "source": [
    "### Problem 2-3: (11pts)\n",
    "Using the same $E_{a}$ values and calculated $DTS_{mean}$ from 2-2, predict the bloom date $BD_{j}$ for each of the training years. Find the mean squared error relative to the actual $BD$ and plot it against $E_{a}$. Find the optimal $E_{a}^{*}$ that minimizes that error on the training data."
   ]
  },
  {
   "cell_type": "code",
   "execution_count": 51,
   "metadata": {},
   "outputs": [
    {
     "data": {
      "text/plain": [
       "{5: [[1966, datetime.date(1966, 3, 28)],\n",
       "  [1971, datetime.date(1971, 3, 28)],\n",
       "  [1985, datetime.date(1985, 3, 27)],\n",
       "  [1994, datetime.date(1994, 3, 29)],\n",
       "  [2008, datetime.date(2008, 3, 28)]],\n",
       " 6: [[1966, datetime.date(1966, 3, 28)],\n",
       "  [1971, datetime.date(1971, 3, 28)],\n",
       "  [1985, datetime.date(1985, 3, 28)],\n",
       "  [1994, datetime.date(1994, 3, 29)],\n",
       "  [2008, datetime.date(2008, 3, 28)]],\n",
       " 7: [[1966, datetime.date(1966, 3, 28)],\n",
       "  [1971, datetime.date(1971, 3, 28)],\n",
       "  [1985, datetime.date(1985, 3, 28)],\n",
       "  [1994, datetime.date(1994, 3, 29)],\n",
       "  [2008, datetime.date(2008, 3, 27)]],\n",
       " 8: [[1966, datetime.date(1966, 3, 28)],\n",
       "  [1971, datetime.date(1971, 3, 28)],\n",
       "  [1985, datetime.date(1985, 3, 28)],\n",
       "  [1994, datetime.date(1994, 3, 29)],\n",
       "  [2008, datetime.date(2008, 3, 27)]],\n",
       " 9: [[1966, datetime.date(1966, 3, 27)],\n",
       "  [1971, datetime.date(1971, 3, 28)],\n",
       "  [1985, datetime.date(1985, 3, 29)],\n",
       "  [1994, datetime.date(1994, 3, 29)],\n",
       "  [2008, datetime.date(2008, 3, 27)]],\n",
       " 10: [[1966, datetime.date(1966, 3, 27)],\n",
       "  [1971, datetime.date(1971, 3, 28)],\n",
       "  [1985, datetime.date(1985, 3, 29)],\n",
       "  [1994, datetime.date(1994, 3, 29)],\n",
       "  [2008, datetime.date(2008, 3, 27)]],\n",
       " 11: [[1966, datetime.date(1966, 3, 27)],\n",
       "  [1971, datetime.date(1971, 3, 28)],\n",
       "  [1985, datetime.date(1985, 3, 29)],\n",
       "  [1994, datetime.date(1994, 3, 30)],\n",
       "  [2008, datetime.date(2008, 3, 26)]],\n",
       " 12: [[1966, datetime.date(1966, 3, 26)],\n",
       "  [1971, datetime.date(1971, 3, 29)],\n",
       "  [1985, datetime.date(1985, 3, 29)],\n",
       "  [1994, datetime.date(1994, 3, 30)],\n",
       "  [2008, datetime.date(2008, 3, 26)]],\n",
       " 13: [[1966, datetime.date(1966, 3, 26)],\n",
       "  [1971, datetime.date(1971, 3, 29)],\n",
       "  [1985, datetime.date(1985, 3, 30)],\n",
       "  [1994, datetime.date(1994, 3, 30)],\n",
       "  [2008, datetime.date(2008, 3, 26)]],\n",
       " 14: [[1966, datetime.date(1966, 3, 26)],\n",
       "  [1971, datetime.date(1971, 3, 29)],\n",
       "  [1985, datetime.date(1985, 3, 30)],\n",
       "  [1994, datetime.date(1994, 3, 30)],\n",
       "  [2008, datetime.date(2008, 3, 26)]],\n",
       " 15: [[1966, datetime.date(1966, 3, 26)],\n",
       "  [1971, datetime.date(1971, 3, 29)],\n",
       "  [1985, datetime.date(1985, 3, 30)],\n",
       "  [1994, datetime.date(1994, 3, 31)],\n",
       "  [2008, datetime.date(2008, 3, 26)]],\n",
       " 16: [[1966, datetime.date(1966, 3, 25)],\n",
       "  [1971, datetime.date(1971, 3, 29)],\n",
       "  [1985, datetime.date(1985, 3, 31)],\n",
       "  [1994, datetime.date(1994, 3, 31)],\n",
       "  [2008, datetime.date(2008, 3, 26)]],\n",
       " 17: [[1966, datetime.date(1966, 3, 25)],\n",
       "  [1971, datetime.date(1971, 3, 29)],\n",
       "  [1985, datetime.date(1985, 3, 31)],\n",
       "  [1994, datetime.date(1994, 3, 31)],\n",
       "  [2008, datetime.date(2008, 3, 25)]],\n",
       " 18: [[1966, datetime.date(1966, 3, 25)],\n",
       "  [1971, datetime.date(1971, 3, 29)],\n",
       "  [1985, datetime.date(1985, 3, 31)],\n",
       "  [1994, datetime.date(1994, 3, 31)],\n",
       "  [2008, datetime.date(2008, 3, 25)]],\n",
       " 19: [[1966, datetime.date(1966, 3, 24)],\n",
       "  [1971, datetime.date(1971, 3, 29)],\n",
       "  [1985, datetime.date(1985, 4, 1)],\n",
       "  [1994, datetime.date(1994, 3, 31)],\n",
       "  [2008, datetime.date(2008, 3, 25)]],\n",
       " 20: [[1966, datetime.date(1966, 3, 24)],\n",
       "  [1971, datetime.date(1971, 3, 29)],\n",
       "  [1985, datetime.date(1985, 4, 1)],\n",
       "  [1994, datetime.date(1994, 3, 31)],\n",
       "  [2008, datetime.date(2008, 3, 25)]],\n",
       " 21: [[1966, datetime.date(1966, 3, 24)],\n",
       "  [1971, datetime.date(1971, 3, 29)],\n",
       "  [1985, datetime.date(1985, 4, 1)],\n",
       "  [1994, datetime.date(1994, 4, 1)],\n",
       "  [2008, datetime.date(2008, 3, 25)]],\n",
       " 22: [[1966, datetime.date(1966, 3, 24)],\n",
       "  [1971, datetime.date(1971, 3, 29)],\n",
       "  [1985, datetime.date(1985, 4, 2)],\n",
       "  [1994, datetime.date(1994, 4, 1)],\n",
       "  [2008, datetime.date(2008, 3, 25)]],\n",
       " 23: [[1966, datetime.date(1966, 3, 24)],\n",
       "  [1971, datetime.date(1971, 3, 29)],\n",
       "  [1985, datetime.date(1985, 4, 2)],\n",
       "  [1994, datetime.date(1994, 4, 1)],\n",
       "  [2008, datetime.date(2008, 3, 25)]],\n",
       " 24: [[1966, datetime.date(1966, 3, 23)],\n",
       "  [1971, datetime.date(1971, 3, 29)],\n",
       "  [1985, datetime.date(1985, 4, 2)],\n",
       "  [1994, datetime.date(1994, 4, 1)],\n",
       "  [2008, datetime.date(2008, 3, 24)]],\n",
       " 25: [[1966, datetime.date(1966, 3, 23)],\n",
       "  [1971, datetime.date(1971, 3, 29)],\n",
       "  [1985, datetime.date(1985, 4, 2)],\n",
       "  [1994, datetime.date(1994, 4, 1)],\n",
       "  [2008, datetime.date(2008, 3, 24)]],\n",
       " 26: [[1966, datetime.date(1966, 3, 23)],\n",
       "  [1971, datetime.date(1971, 3, 29)],\n",
       "  [1985, datetime.date(1985, 4, 3)],\n",
       "  [1994, datetime.date(1994, 4, 1)],\n",
       "  [2008, datetime.date(2008, 3, 24)]],\n",
       " 27: [[1966, datetime.date(1966, 3, 23)],\n",
       "  [1971, datetime.date(1971, 3, 29)],\n",
       "  [1985, datetime.date(1985, 4, 3)],\n",
       "  [1994, datetime.date(1994, 4, 1)],\n",
       "  [2008, datetime.date(2008, 3, 24)]],\n",
       " 28: [[1966, datetime.date(1966, 3, 23)],\n",
       "  [1971, datetime.date(1971, 3, 29)],\n",
       "  [1985, datetime.date(1985, 4, 3)],\n",
       "  [1994, datetime.date(1994, 4, 1)],\n",
       "  [2008, datetime.date(2008, 3, 24)]],\n",
       " 29: [[1966, datetime.date(1966, 3, 23)],\n",
       "  [1971, datetime.date(1971, 3, 29)],\n",
       "  [1985, datetime.date(1985, 4, 3)],\n",
       "  [1994, datetime.date(1994, 4, 1)],\n",
       "  [2008, datetime.date(2008, 3, 24)]],\n",
       " 30: [[1966, datetime.date(1966, 3, 22)],\n",
       "  [1971, datetime.date(1971, 3, 29)],\n",
       "  [1985, datetime.date(1985, 4, 3)],\n",
       "  [1994, datetime.date(1994, 4, 2)],\n",
       "  [2008, datetime.date(2008, 3, 23)]],\n",
       " 31: [[1966, datetime.date(1966, 3, 22)],\n",
       "  [1971, datetime.date(1971, 3, 29)],\n",
       "  [1985, datetime.date(1985, 4, 3)],\n",
       "  [1994, datetime.date(1994, 4, 2)],\n",
       "  [2008, datetime.date(2008, 3, 23)]],\n",
       " 32: [[1966, datetime.date(1966, 3, 22)],\n",
       "  [1971, datetime.date(1971, 3, 29)],\n",
       "  [1985, datetime.date(1985, 4, 3)],\n",
       "  [1994, datetime.date(1994, 4, 2)],\n",
       "  [2008, datetime.date(2008, 3, 23)]],\n",
       " 33: [[1966, datetime.date(1966, 3, 21)],\n",
       "  [1971, datetime.date(1971, 3, 29)],\n",
       "  [1985, datetime.date(1985, 4, 3)],\n",
       "  [1994, datetime.date(1994, 4, 2)],\n",
       "  [2008, datetime.date(2008, 3, 23)]],\n",
       " 34: [[1966, datetime.date(1966, 3, 21)],\n",
       "  [1971, datetime.date(1971, 3, 29)],\n",
       "  [1985, datetime.date(1985, 4, 3)],\n",
       "  [1994, datetime.date(1994, 4, 2)],\n",
       "  [2008, datetime.date(2008, 3, 23)]],\n",
       " 35: [[1966, datetime.date(1966, 3, 21)],\n",
       "  [1971, datetime.date(1971, 3, 29)],\n",
       "  [1985, datetime.date(1985, 4, 3)],\n",
       "  [1994, datetime.date(1994, 4, 2)],\n",
       "  [2008, datetime.date(2008, 3, 23)]],\n",
       " 36: [[1966, datetime.date(1966, 3, 20)],\n",
       "  [1971, datetime.date(1971, 3, 29)],\n",
       "  [1985, datetime.date(1985, 4, 3)],\n",
       "  [1994, datetime.date(1994, 4, 2)],\n",
       "  [2008, datetime.date(2008, 3, 23)]],\n",
       " 37: [[1966, datetime.date(1966, 3, 20)],\n",
       "  [1971, datetime.date(1971, 3, 29)],\n",
       "  [1985, datetime.date(1985, 4, 3)],\n",
       "  [1994, datetime.date(1994, 4, 2)],\n",
       "  [2008, datetime.date(2008, 3, 23)]],\n",
       " 38: [[1966, datetime.date(1966, 3, 19)],\n",
       "  [1971, datetime.date(1971, 3, 29)],\n",
       "  [1985, datetime.date(1985, 4, 3)],\n",
       "  [1994, datetime.date(1994, 4, 2)],\n",
       "  [2008, datetime.date(2008, 3, 23)]],\n",
       " 39: [[1966, datetime.date(1966, 3, 19)],\n",
       "  [1971, datetime.date(1971, 3, 29)],\n",
       "  [1985, datetime.date(1985, 4, 4)],\n",
       "  [1994, datetime.date(1994, 4, 2)],\n",
       "  [2008, datetime.date(2008, 3, 23)]],\n",
       " 40: [[1966, datetime.date(1966, 3, 19)],\n",
       "  [1971, datetime.date(1971, 3, 29)],\n",
       "  [1985, datetime.date(1985, 4, 4)],\n",
       "  [1994, datetime.date(1994, 4, 2)],\n",
       "  [2008, datetime.date(2008, 3, 23)]]}"
      ]
     },
     "execution_count": 51,
     "metadata": {},
     "output_type": "execute_result"
    }
   ],
   "source": [
    "prob2_3_pred = {}\n",
    "for i in E_a:\n",
    "    prob2_3_pred.update({i:[]})\n",
    "    for year in train_years:\n",
    "        data = df_prob2_2[df_prob2_2['year'] == year]\n",
    "        Dj = datetime.date(year,1,1)+ timedelta(days=(math.floor(tf[year][1])))\n",
    "        data = data[(data['datetime'] >= Dj)]\n",
    "        arr = []\n",
    "        for index, row in data.iterrows():\n",
    "            arr.append(row['平均気温'])\n",
    "            if DTS(i,np.array(arr)) > DTS_mean[i]:\n",
    "                prob2_3_pred[i].append([year,row['datetime']])\n",
    "                break\n",
    "prob2_3_pred\n"
   ]
  },
  {
   "cell_type": "code",
   "execution_count": 73,
   "metadata": {},
   "outputs": [
    {
     "data": {
      "text/plain": [
       "{5: [31.4],\n",
       " 6: [28.8],\n",
       " 7: [26.6],\n",
       " 8: [26.6],\n",
       " 9: [21.4],\n",
       " 10: [21.4],\n",
       " 11: [19.0],\n",
       " 12: [15.8],\n",
       " 13: [14.0],\n",
       " 14: [14.0],\n",
       " 15: [13.8],\n",
       " 16: [10.2],\n",
       " 17: [8.8],\n",
       " 18: [8.8],\n",
       " 19: [6.0],\n",
       " 20: [6.0],\n",
       " 21: [6.2],\n",
       " 22: [5.6],\n",
       " 23: [5.6],\n",
       " 24: [3.2],\n",
       " 25: [3.2],\n",
       " 26: [3.0],\n",
       " 27: [3.0],\n",
       " 28: [3.0],\n",
       " 29: [3.0],\n",
       " 30: [2.0],\n",
       " 31: [2.0],\n",
       " 32: [2.0],\n",
       " 33: [1.4],\n",
       " 34: [1.4],\n",
       " 35: [1.4],\n",
       " 36: [1.2],\n",
       " 37: [1.2],\n",
       " 38: [1.4],\n",
       " 39: [1.6],\n",
       " 40: [1.6]}"
      ]
     },
     "execution_count": 73,
     "metadata": {},
     "output_type": "execute_result"
    }
   ],
   "source": [
    "prob2_3_mean = {}\n",
    "\n",
    "for index,value in prob2_3_pred.items():\n",
    "    \n",
    "    prob2_3_mean.update({index:[]})\n",
    "    arr = []\n",
    "    for i in value:\n",
    "        data = df_web_train[df_web_train['year'] == i[0]]\n",
    "        arr.append((data['datetime'].values[0] - i[1]).days)\n",
    "    arr = np.array(arr)    \n",
    "    prob2_3_mean[index].append(np.average(arr**2))\n",
    "prob2_3_mean"
   ]
  },
  {
   "cell_type": "code",
   "execution_count": 71,
   "metadata": {},
   "outputs": [
    {
     "data": {
      "image/png": "[encoded data removed]",
      "text/plain": [
       "<Figure size 432x288 with 1 Axes>"
      ]
     },
     "metadata": {
      "needs_background": "light"
     },
     "output_type": "display_data"
    }
   ],
   "source": [
    "plt.plot([i for i,v in prob2_3_mean.items()],[v for i,v in prob2_3_mean.items()],'o-')\n",
    "\n",
    "plt.xlabel(r'$E_{a}$')\n",
    "plt.ylabel('Mean squared error')\n",
    "plt.title(r'The mean squared error relative to $BD$ and $E_a$')\n",
    "\n",
    "plt.show()"
   ]
  },
  {
   "cell_type": "code",
   "execution_count": 87,
   "metadata": {},
   "outputs": [
    {
     "name": "stdout",
     "output_type": "stream",
     "text": [
      "[1.2]\n",
      "36\n",
      "37\n"
     ]
    }
   ],
   "source": [
    "_min = min([v for i,v in prob2_3_mean.items()])\n",
    "print(_min)\n",
    "for i, v in prob2_3_mean.items():\n",
    "    if v == _min:\n",
    "          print( i)"
   ]
  },
  {
   "cell_type": "markdown",
   "metadata": {},
   "source": [
    "##### $E^*_a = \\{36;37\\}$"
   ]
  },
  {
   "cell_type": "markdown",
   "metadata": {},
   "source": [
    "### Problem 2-4: (4pts)\n",
    "\n",
    "Using the $D_j$ dates from problem 2-1, the average $DTS_{mean}$ from 2-2, and the best-fit $E_{a}^{*}$ from 2-3, predict the bloom-dates $BD_j$ for the years in the test set. Determine the error between your predicted $BD_j$ values and the actual values, and evaluate this model using the coefficient of determination ($R^2$ score)."
   ]
  },
  {
   "cell_type": "code",
   "execution_count": null,
   "metadata": {
    "collapsed": true
   },
   "outputs": [],
   "source": []
  },
  {
   "cell_type": "markdown",
   "metadata": {},
   "source": [
    "### Problem 2-5: (extra 10pts)\n",
    "Discuss any improvements you could make to the model outlined above. If you have a suggestion in particular, describe it. How much do you think the accuracy would be improved?"
   ]
  },
  {
   "cell_type": "code",
   "execution_count": null,
   "metadata": {
    "collapsed": true
   },
   "outputs": [],
   "source": []
  },
  {
   "cell_type": "markdown",
   "metadata": {},
   "source": [
    "***\n",
    "## 3. Predicting Bloom-date via Neural Network (30pts total)"
   ]
  },
  {
   "cell_type": "markdown",
   "metadata": {},
   "source": [
    "### Problem 3-1: (20pts)\n",
    "\n",
    "Build a neural network and train it on the data from the training years. Use this model to predict the bloom-dates for each year in the test set. Evaluate the error between predicted dates and actual dates using the coefficient of determination (R2 score). Only use the weather data given in `tokyo.csv` and the sakura data acquired in problem 0-1.</br>\n",
    "You may use whichever framework or strategy that you like to construct the network. "
   ]
  },
  {
   "cell_type": "code",
   "execution_count": null,
   "metadata": {
    "collapsed": true
   },
   "outputs": [],
   "source": []
  },
  {
   "cell_type": "markdown",
   "metadata": {},
   "source": [
    "### Problem 3-2: (10pts)\n",
    "Compare the performance (via $R^2$ score) of the 3 implementations above: the 600 Degree Rule, the DTS method, and the neural network approach. For all methods, and each test year, plot the predicted date vs. the actual date. Discuss the accuracy and differences of these 3 models."
   ]
  },
  {
   "cell_type": "code",
   "execution_count": null,
   "metadata": {
    "collapsed": true
   },
   "outputs": [],
   "source": []
  },
  {
   "cell_type": "markdown",
   "metadata": {},
   "source": [
    "***\n",
    "## 4. Trends of the Sakura blooming phenomenon (20pts total)"
   ]
  },
  {
   "cell_type": "markdown",
   "metadata": {},
   "source": [
    "### Problem 4-1: (20pts)\n",
    "Based on the data from the past 60 years, investigate and discuss trends in the sakura hibernation ($D_{j}$) and blooming ($BD_{j}$) phenomena in Tokyo."
   ]
  },
  {
   "cell_type": "code",
   "execution_count": null,
   "metadata": {
    "collapsed": true
   },
   "outputs": [],
   "source": []
  }
 ],
 "metadata": {
  "kernel_info": {
   "name": "python2"
  },
  "kernelspec": {
   "display_name": "Python 3",
   "language": "python",
   "name": "python3"
  },
  "language_info": {
   "codemirror_mode": {
    "name": "ipython",
    "version": 3
   },
   "file_extension": ".py",
   "mimetype": "text/x-python",
   "name": "python",
   "nbconvert_exporter": "python",
   "pygments_lexer": "ipython3",
   "version": "3.6.7"
  }
 },
 "nbformat": 4,
 "nbformat_minor": 2
}
