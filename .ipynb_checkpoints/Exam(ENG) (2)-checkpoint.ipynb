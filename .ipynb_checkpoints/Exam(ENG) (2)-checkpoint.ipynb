{
 "cells": [
  {
   "cell_type": "markdown",
   "metadata": {},
   "source": [
    "# Entrance Challenge: When Will the Sakura Bloom?"
   ]
  },
  {
   "cell_type": "markdown",
   "metadata": {},
   "source": [
    "***\n",
    "\n",
    "**Name：**\n",
    "\n",
    "**Submission Date：**\n",
    "\n",
    "***"
   ]
  },
  {
   "cell_type": "code",
   "execution_count": null,
   "metadata": {
    "collapsed": true
   },
   "outputs": [],
   "source": [
    "Tuong Nguyen Van, Python3"
   ]
  },
  {
   "cell_type": "markdown",
   "metadata": {},
   "source": [
    "# 0. Basics of the Sakura Bloom-cycle (5pts total)"
   ]
  },
  {
   "cell_type": "markdown",
   "metadata": {},
   "source": [
    "In a year, sakura trees basically go through 4 phases: energy production, hibernation, growth, and of course flowering. These phases\n",
    "roughly follow the seasons, but not exactly. <br>\n",
    "\n",
    "   Production phase： Initial development of the buds（Summer-Fall） <br>\n",
    "   Hibernation phase： Bud growth stops while the tree goes into hibernation（Late Fall-Winter） <br>\n",
    "   Growth phase： Buds once again continue to grow when the tree comes out of its winter hibernation（Late Winter-Spring） <br>\n",
    "   Flowering phase： The buds finally bloom in spring (as climate conditions allow), once they have been able to fully develop.（Spring） <br>\n",
    "    \n",
    "Each year, near the end of winter but before the trees finally bloom, the hibernation period ends. The sakura that rested through the winter once gain become metabolically active, and the buds continue to grow (though we may not immediately notice when this happens.) However, the cycle is not simply clockwork- for example, in places where the temperature is above 20℃ year-round, the trees are unable to hibernate sufficiently, and thus cannot blossom.\n",
    "    \n",
    "In this challenge, we have outlined the basic mechanism by which the sakura reach their eventual bloom-date. We consider building a bloom-date prediction model for the case of sakura in Tokyo, with the data split as follows: <br>\n",
    "    \n",
    "Test years： 1966, 1971, 1985, 1994, and 2008 <br>\n",
    "Training years: 1961 to 2017 (Excluding the test years) <br>\n",
    "    \n",
    "You should fit the model to the data from the training years, then use the model to predict the bloom-date for each of the test years. The 3 models to be applied to the data are described below.\n",
    "    \n"
   ]
  },
  {
   "cell_type": "markdown",
   "metadata": {},
   "source": [
    "### Problem 0-1: (5pts)\n",
    "Acquire data of sakura blooming date (桜の開花日) for Tokyo from 1961 to 2017 using the Japanese Meteorological Agency website (気象庁)."
   ]
  },
  {
   "cell_type": "code",
   "execution_count": 88,
   "metadata": {},
   "outputs": [],
   "source": [
    "# import libraries\n",
    "\n",
    "import numpy as np\n",
    "import pandas as pd\n",
    "import matplotlib.pyplot as plt\n"
   ]
  },
  {
   "cell_type": "code",
   "execution_count": 86,
   "metadata": {},
   "outputs": [
    {
     "data": {
      "text/html": [
       "<div>\n",
       "<style scoped>\n",
       "    .dataframe tbody tr th:only-of-type {\n",
       "        vertical-align: middle;\n",
       "    }\n",
       "\n",
       "    .dataframe tbody tr th {\n",
       "        vertical-align: top;\n",
       "    }\n",
       "\n",
       "    .dataframe thead th {\n",
       "        text-align: right;\n",
       "    }\n",
       "</style>\n",
       "<table border=\"1\" class=\"dataframe\">\n",
       "  <thead>\n",
       "    <tr style=\"text-align: right;\">\n",
       "      <th></th>\n",
       "      <th>year</th>\n",
       "      <th>month</th>\n",
       "      <th>day</th>\n",
       "    </tr>\n",
       "  </thead>\n",
       "  <tbody>\n",
       "    <tr>\n",
       "      <th>5</th>\n",
       "      <td>1966</td>\n",
       "      <td>4</td>\n",
       "      <td>5</td>\n",
       "    </tr>\n",
       "    <tr>\n",
       "      <th>10</th>\n",
       "      <td>1971</td>\n",
       "      <td>4</td>\n",
       "      <td>5</td>\n",
       "    </tr>\n",
       "    <tr>\n",
       "      <th>24</th>\n",
       "      <td>1985</td>\n",
       "      <td>4</td>\n",
       "      <td>10</td>\n",
       "    </tr>\n",
       "    <tr>\n",
       "      <th>33</th>\n",
       "      <td>1994</td>\n",
       "      <td>4</td>\n",
       "      <td>5</td>\n",
       "    </tr>\n",
       "    <tr>\n",
       "      <th>47</th>\n",
       "      <td>2008</td>\n",
       "      <td>3</td>\n",
       "      <td>27</td>\n",
       "    </tr>\n",
       "  </tbody>\n",
       "</table>\n",
       "</div>"
      ],
      "text/plain": [
       "    year  month  day\n",
       "5   1966      4    5\n",
       "10  1971      4    5\n",
       "24  1985      4   10\n",
       "33  1994      4    5\n",
       "47  2008      3   27"
      ]
     },
     "execution_count": 86,
     "metadata": {},
     "output_type": "execute_result"
    }
   ],
   "source": [
    "\n",
    "# Say something. https://www.data.jma.go.jp/sakura/data/sakura004_01.html\n",
    "\n",
    "df_web = pd.read_csv('webData.csv')\n",
    "\n",
    "train_years = [1966 , 1971 , 1985 , 1994 ,2008]\n",
    "\n",
    "df_web_train = df_web[df_web['year'].isin(train_years)]\n",
    "df_web_test = df_web[~df_web['year'].isin(train_years)]\n",
    "df_web_train"
   ]
  },
  {
   "cell_type": "markdown",
   "metadata": {},
   "source": [
    "***\n",
    "## 1. Prediction using the \"600 Degree Rule\" (15pts total)"
   ]
  },
  {
   "cell_type": "markdown",
   "metadata": {},
   "source": [
    "For a rough approximaton of the bloom-date, we start with a simple \"rule-based\" prediction model, called the \"600 Degree Rule\". The rule consists of logging the maximum temperature of each day, starting  on February 1st, and sum these temperatures until the sum surpasses 600$^\\circ$C. The day that this happens is the predicted bloom-date. This 600$^\\circ$C threshold is used to easily predict bloom-date in various locations varies by location. However, for more precise predictions, it should be set differently for every location. In this challenge, we verify the accuracy of the \"600 Degree Rule\" in the case of Tokyo."
   ]
  },
  {
   "cell_type": "markdown",
   "metadata": {},
   "source": [
    "### Problem 1-1: (5pts)\n",
    "From here-on, we refer to the bloom-date in a given year $j$ as $BD_{j}$. For each year in the training data, calculate the accumulated daily maximum temperature from February 1st to the actual bloom-date $BD_{j}$, and plot this accumulated value over the training period. Then, average this accumulated value as $T_{mean}$, and verify whether we should use 600$^\\circ$C as a rule for Tokyo."
   ]
  },
  {
   "cell_type": "code",
   "execution_count": 93,
   "metadata": {
    "scrolled": false
   },
   "outputs": [],
   "source": [
    "# Get data from tokyo.csv\n",
    "\n",
    "df_weather = pd.read_csv(\"tokyo.csv\")\n",
    "\n",
    "# Split dataset to train and test set\n",
    "df_train = df_weather[df_weather['year'].isin(train_years)]\n",
    "df_test = df_weather[~df_weather['year'].isin(train_years)]\n",
    "\n"
   ]
  },
  {
   "cell_type": "code",
   "execution_count": 104,
   "metadata": {},
   "outputs": [],
   "source": [
    "#define plot function\n",
    "\n",
    "def plotCumulation(array,year):\n",
    "    \n",
    "    n_bins = 50\n",
    "    \n",
    "\n",
    "    fig, ax = plt.subplots(figsize=(8, 4))\n",
    "\n",
    "    # plot the cumulative histogram\n",
    "    n, bins, patches = ax.hist(array, n_bins, density=True, histtype='step',\n",
    "                               cumulative=True, label='Empirical')\n",
    "\n",
    "    # tidy up the figure\n",
    "    ax.grid(True)\n",
    "    ax.legend(loc='right')\n",
    "    ax.set_title('Cumulation of highest temperature ' + str(year))\n",
    "    ax.set_xlabel('Highest temperature (celsius degree)')\n",
    "    ax.set_ylabel('Date')\n",
    "\n",
    "    plt.show()"
   ]
  },
  {
   "cell_type": "code",
   "execution_count": 105,
   "metadata": {},
   "outputs": [
    {
     "data": {
      "image/png": "[encoded data removed]",
      "text/plain": [
       "<Figure size 576x288 with 1 Axes>"
      ]
     },
     "metadata": {
      "needs_background": "light"
     },
     "output_type": "display_data"
    },
    {
     "data": {
      "image/png": "[encoded data removed]",
      "text/plain": [
       "<Figure size 576x288 with 1 Axes>"
      ]
     },
     "metadata": {
      "needs_background": "light"
     },
     "output_type": "display_data"
    },
    {
     "data": {
      "image/png": "[encoded data removed]",
      "text/plain": [
       "<Figure size 576x288 with 1 Axes>"
      ]
     },
     "metadata": {
      "needs_background": "light"
     },
     "output_type": "display_data"
    },
    {
     "data": {
      "image/png": "[encoded data removed]",
      "text/plain": [
       "<Figure size 576x288 with 1 Axes>"
      ]
     },
     "metadata": {
      "needs_background": "light"
     },
     "output_type": "display_data"
    },
    {
     "data": {
      "image/png": "[encoded data removed]",
      "text/plain": [
       "<Figure size 576x288 with 1 Axes>"
      ]
     },
     "metadata": {
      "needs_background": "light"
     },
     "output_type": "display_data"
    }
   ],
   "source": [
    "# Filter train set\n",
    "train_600 = df_train[['year','最高気温']]\n",
    "for i in train_years:\n",
    "    data = train_600[train_600['year'] == i]\n",
    "    array = data['最高気温'].values\n",
    "    plotCumulation(array,i)\n",
    "    "
   ]
  },
  {
   "cell_type": "markdown",
   "metadata": {},
   "source": [
    "### Problem 1-2: (10pts)\n",
    "\n",
    "Use the average accumulated value $T_{mean}$ calculated in 1-1 to predict $BD_{j}$ for each test year, and show the error from the actual $BD_{j}$. Compare to the prediction results when 600$^\\circ$C is used a threshold value, and evaluate both models using the coefficient of determination ($R^2$ score)."
   ]
  },
  {
   "cell_type": "code",
   "execution_count": 1,
   "metadata": {
    "collapsed": true
   },
   "outputs": [],
   "source": []
  },
  {
   "cell_type": "markdown",
   "metadata": {},
   "source": [
    "***\n",
    "## 2. Linear Regression Model: Transform to Standard Temperature (30pts total)"
   ]
  },
  {
   "cell_type": "markdown",
   "metadata": {},
   "source": [
    "The year to year fluctuation of the bloom-date depends heavily upon the actual temperature fluctuation (not just the accumulated maximum). In order to get to a more physiologically realistic metric,  Sugihara et al. (1986) considered the actual effect of temperature on biochemical activity. They introduced a method of \"standardizing\" the temperatures measured, according to the fluctuation relative to a standard temperature.\n",
    "\n",
    "In order to make such a standardization, we apply two major assumptions, outlined below.\n",
    "\n",
    "#### 1) The Arrhenius equation: <br>\n",
    "\n",
    "The first assumption, also known in thermodynamics as the \"Arrhenius equation\", deals with chemical reaction rates and can be written as follows:\n",
    "\n",
    "$$\n",
    "k = A \\exp{ \\Bigl(- \\frac{E_{a}}{RT}} \\Bigr)\n",
    "$$ <br>\n",
    "\n",
    "Basically, it says that each reaction has an activation energy, $E_{a}$ and a pre-exponential factor $A$. Knowing these values for the particular equation, we can find the rate constant $k$ if we know the temperature, $T$, and applying the universal gas constant, $R = 8.314 \\rm [J/K・mol]$.\n",
    "\n",
    "#### 2) Constant output at constant temperature: <br>\n",
    "\n",
    "The second assumption, is simply that the output of a reaction is a simple product of the duration and the rate constant $k$, and that product is constant even at different temperatures.\n",
    "    \n",
    "$$\n",
    "tk = t'k' = t''k'' = \\cdots = \\rm{const}\n",
    "$$ <br>\n",
    "\n",
    "\n",
    "Making the assumptions above, we can determine a \"standard reaction time\", $t_{s}$ required for the bloom-date to occur. We can do so in the following way:\n",
    "\n",
    "<br>\n",
    "$$\n",
    "t_{s} = \\exp \\Bigl( \\frac{E_{a}(T_{i, j} - T_{s})}{RT_{i, j}T_{s}}\\Bigr)\n",
    "$$ <br>\n",
    "\n",
    "We define $T_{i, j}$ as the daily average temperature, and use a standard temperature of $T_{s} = 17^\\circ\\rm{C}$. For a given year $j$, with the last day of the hibernation phase set as $D_ {j}$, we define the number of \"transformed temperature days\",  $DTS_{ J}$,  needed to reach from $D_ {j}$ to the bloom-date $BD_{j}$ with the following equation:\n",
    "\n",
    "\n",
    "<br>\n",
    "$$\n",
    "DTS_{j} = \\sum_{i=D_{j}}^{BD_{j}} t_{s} = \\sum_{i=D_{j}}^{BD_{j}} \\exp \\Bigl( \\frac{E_{a}(T_{i, j} - T_{s})}{RT_{i, j}T_{s}}\\Bigr)\n",
    "$$ <br>\n",
    "\n",
    "\n",
    "\n",
    "From that equation, we can find the average $DTS$ for $x$ number of years ($DTS_{ mean}$) as follows: \n",
    "\n",
    "<br>\n",
    "$$\n",
    "\\begin{align}\n",
    "DTS_{\\rm{mean}} &= \\frac{1}{x} \\sum_{j}^{x} DTS_{j} \\\\\n",
    "&= \\frac{1}{x} \\sum_{j}^{x} \\sum_{i=D_{j}}^{BD_{j}} \\exp \\Bigl( \\frac{E_{a}(T_{i, j} - T_{s})}{RT_{i, j}T_{s}}\\Bigr)\n",
    "\\end{align}\n",
    "$$ <br> <br>\n",
    "\n",
    "In this exercise, we assume that $DTS_{ mean}$ and $E_{ a}$ are constant values, and we use the data from the training years to fit these 2 constants. The exercise consists of 4 steps:\n",
    "1. Calculate the last day of the hibernation phase $D_ {j}$ for every year $j$.\n",
    "2. For every year $j$, calculate $DTS_{ j}$ as a function of $E_{ a}$, then calculate the average (over training years) $DTS_{ mean}$ also as a function of $E_{ a}$.\n",
    "3. For every year $j$, and for every value of $E_{ a}$, accumulate $t_{s}$ from $D_ {j}$ and predict the bloom date $BD_{j}^{\\rm{pred}}$ as the day the accumulated value surpasses $DTS_{ mean}$. Calculate the bloom date prediction error as a function of $E_{ a}$, and find the optimal $E_{ a}$ value that minimizes that error.\n",
    "4. Use the previously calculated values of $D_ {j}$, $DTS_{ mean}$, and $E_{ a}$ to predict bloom-day on years from the test set.\n"
   ]
  },
  {
   "cell_type": "markdown",
   "metadata": {},
   "source": [
    "### Problem 2-1: (5pts)\n",
    "According to Hayashi et al. (2012), the day on which the sakura will awaken from their hibernation phase, $D_{j}$, for a given location, can be approximated by the following equation:\n",
    "<br> <br>\n",
    "$$\n",
    "D_{j} = 136.75 - 7.689 \\phi + 0.133 \\phi^{2} -1.307\\ln L + 0.144T_{F} + 0.285T_{F}^2\n",
    "$$ <br>\n",
    "\n",
    "where $\\phi$ is the latitude [°N], $L$ is the distance from the nearest coastline [km], and $T_{F}$ is that location's average temperature [°C] over the first 3 months of a given year. In the case of Tokyo, $\\phi = 35°40'$ and $L=4\\rm{km}$.\n",
    "\n",
    "Find the $D_{j}$ value for every year $j$ from 1961 to 2017 (including the test years), and plot this value on a graph. \n",
    "\n",
    "(In Problem 1, we had assumed a $D_j$ of February 1st.)"
   ]
  },
  {
   "cell_type": "code",
   "execution_count": 1,
   "metadata": {
    "collapsed": true
   },
   "outputs": [],
   "source": []
  },
  {
   "cell_type": "markdown",
   "metadata": {},
   "source": [
    "### Problem 2-2: (10pts)\n",
    "Calcluate $DTS_j$ for each year $j$ in the training set for discrete values of $E_{a}$, varying from 5 to 40kcal ($E_{a} = 5, 6, 7, \\cdots, 40 \\,\\rm{kcal}$), and plot this $DTS_j$ against $E_{a}$. Also calculate the average of $DTS_{j}$ over the training period, and indicate it on the plot as $DTS_{mean}$. Pay attention to the units of **every parameter** ($T_{i,j}$, $E_{a}$, ...) in the equation for $t_{s}$. \n"
   ]
  },
  {
   "cell_type": "code",
   "execution_count": null,
   "metadata": {
    "collapsed": true
   },
   "outputs": [],
   "source": []
  },
  {
   "cell_type": "markdown",
   "metadata": {},
   "source": [
    "### Problem 2-3: (11pts)\n",
    "Using the same $E_{a}$ values and calculated $DTS_{mean}$ from 2-2, predict the bloom date $BD_{j}$ for each of the training years. Find the mean squared error relative to the actual $BD$ and plot it against $E_{a}$. Find the optimal $E_{a}^{*}$ that minimizes that error on the training data."
   ]
  },
  {
   "cell_type": "code",
   "execution_count": null,
   "metadata": {
    "collapsed": true
   },
   "outputs": [],
   "source": []
  },
  {
   "cell_type": "markdown",
   "metadata": {},
   "source": [
    "### Problem 2-4: (4pts)\n",
    "\n",
    "Using the $D_j$ dates from problem 2-1, the average $DTS_{mean}$ from 2-2, and the best-fit $E_{a}^{*}$ from 2-3, predict the bloom-dates $BD_j$ for the years in the test set. Determine the error between your predicted $BD_j$ values and the actual values, and evaluate this model using the coefficient of determination ($R^2$ score)."
   ]
  },
  {
   "cell_type": "code",
   "execution_count": null,
   "metadata": {
    "collapsed": true
   },
   "outputs": [],
   "source": []
  },
  {
   "cell_type": "markdown",
   "metadata": {},
   "source": [
    "### Problem 2-5: (extra 10pts)\n",
    "Discuss any improvements you could make to the model outlined above. If you have a suggestion in particular, describe it. How much do you think the accuracy would be improved?"
   ]
  },
  {
   "cell_type": "code",
   "execution_count": null,
   "metadata": {
    "collapsed": true
   },
   "outputs": [],
   "source": []
  },
  {
   "cell_type": "markdown",
   "metadata": {},
   "source": [
    "***\n",
    "## 3. Predicting Bloom-date via Neural Network (30pts total)"
   ]
  },
  {
   "cell_type": "markdown",
   "metadata": {},
   "source": [
    "### Problem 3-1: (20pts)\n",
    "\n",
    "Build a neural network and train it on the data from the training years. Use this model to predict the bloom-dates for each year in the test set. Evaluate the error between predicted dates and actual dates using the coefficient of determination (R2 score). Only use the weather data given in `tokyo.csv` and the sakura data acquired in problem 0-1.</br>\n",
    "You may use whichever framework or strategy that you like to construct the network. "
   ]
  },
  {
   "cell_type": "code",
   "execution_count": null,
   "metadata": {
    "collapsed": true
   },
   "outputs": [],
   "source": []
  },
  {
   "cell_type": "markdown",
   "metadata": {},
   "source": [
    "### Problem 3-2: (10pts)\n",
    "Compare the performance (via $R^2$ score) of the 3 implementations above: the 600 Degree Rule, the DTS method, and the neural network approach. For all methods, and each test year, plot the predicted date vs. the actual date. Discuss the accuracy and differences of these 3 models."
   ]
  },
  {
   "cell_type": "code",
   "execution_count": null,
   "metadata": {
    "collapsed": true
   },
   "outputs": [],
   "source": []
  },
  {
   "cell_type": "markdown",
   "metadata": {},
   "source": [
    "***\n",
    "## 4. Trends of the Sakura blooming phenomenon (20pts total)"
   ]
  },
  {
   "cell_type": "markdown",
   "metadata": {},
   "source": [
    "### Problem 4-1: (20pts)\n",
    "Based on the data from the past 60 years, investigate and discuss trends in the sakura hibernation ($D_{j}$) and blooming ($BD_{j}$) phenomena in Tokyo."
   ]
  },
  {
   "cell_type": "code",
   "execution_count": null,
   "metadata": {
    "collapsed": true
   },
   "outputs": [],
   "source": []
  }
 ],
 "metadata": {
  "kernel_info": {
   "name": "python2"
  },
  "kernelspec": {
   "display_name": "Python 3",
   "language": "python",
   "name": "python3"
  },
  "language_info": {
   "codemirror_mode": {
    "name": "ipython",
    "version": 3
   },
   "file_extension": ".py",
   "mimetype": "text/x-python",
   "name": "python",
   "nbconvert_exporter": "python",
   "pygments_lexer": "ipython3",
   "version": "3.6.7"
  }
 },
 "nbformat": 4,
 "nbformat_minor": 2
}
